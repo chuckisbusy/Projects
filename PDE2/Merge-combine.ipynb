{
 "cells": [
  {
   "cell_type": "code",
   "execution_count": null,
   "id": "13c65acf",
   "metadata": {},
   "outputs": [],
   "source": [
    "import numpy as np\n",
    "import pandas as pd\n",
    "import statsmodels.api as sm\n",
    "import matplotlib.pylab as plt\n",
    "import re\n",
    "import os\n",
    "import glob\n",
    "from matplotlib import rcParams\n",
    "from sklearn import linear_model\n",
    "from sklearn import metrics\n",
    "%matplotlib inline"
   ]
  },
  {
   "cell_type": "code",
   "execution_count": 4,
   "id": "60a6d750",
   "metadata": {},
   "outputs": [],
   "source": [
    "rcParams['figure.figsize'] = 10,10\n",
    "rcParams['axes.linewidth'] = 4.0\n",
    "rcParams['savefig.dpi'] = 500\n",
    "rcParams['pdf.fonttype'] = 42\n",
    "rcParams['ps.fonttype'] = 42"
   ]
  },
  {
   "cell_type": "code",
   "execution_count": 8,
   "id": "653b2c90",
   "metadata": {},
   "outputs": [],
   "source": [
    "mw=pd.read_csv(\"/mnt/u1/pde2/specs-mw-id.csv\", header=0, sep=',', engine='python')\n",
    "assay = pd.read_csv('/home/chuck/Downloads/29inhibitors.csv', sep=\",\", header=0)"
   ]
  },
  {
   "cell_type": "code",
   "execution_count": 9,
   "id": "3ff832a7",
   "metadata": {},
   "outputs": [],
   "source": [
    "combined=pd.merge(assay, mw, how='left', on='IDNUMBER')"
   ]
  },
  {
   "cell_type": "code",
   "execution_count": 11,
   "id": "d08cb0e7",
   "metadata": {},
   "outputs": [],
   "source": [
    "fin = combined.drop_duplicates(subset=['IDNUMBER'], keep='first')"
   ]
  },
  {
   "cell_type": "code",
   "execution_count": 14,
   "id": "37a0e686",
   "metadata": {},
   "outputs": [],
   "source": [
    "fin.to_csv(\"/home/chuck/Downloads/check.csv\", index=False)"
   ]
  },
  {
   "cell_type": "code",
   "execution_count": null,
   "id": "fa2dfc60",
   "metadata": {},
   "outputs": [],
   "source": []
  }
 ],
 "metadata": {
  "kernelspec": {
   "display_name": "Python 3 (ipykernel)",
   "language": "python",
   "name": "python3"
  },
  "language_info": {
   "codemirror_mode": {
    "name": "ipython",
    "version": 3
   },
   "file_extension": ".py",
   "mimetype": "text/x-python",
   "name": "python",
   "nbconvert_exporter": "python",
   "pygments_lexer": "ipython3",
   "version": "3.10.9"
  }
 },
 "nbformat": 4,
 "nbformat_minor": 5
}
