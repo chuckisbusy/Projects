{
 "cells": [
  {
   "cell_type": "code",
   "execution_count": 1,
   "id": "english-material",
   "metadata": {},
   "outputs": [],
   "source": [
    "import numpy as np\n",
    "import pandas as pd\n",
    "import statsmodels.api as sm\n",
    "import matplotlib.pylab as plt\n",
    "import re\n",
    "import os\n",
    "import glob\n",
    "from matplotlib import rcParams\n",
    "from sklearn import linear_model\n",
    "from sklearn import metrics\n",
    "%matplotlib inline"
   ]
  },
  {
   "cell_type": "code",
   "execution_count": 2,
   "id": "electrical-remainder",
   "metadata": {},
   "outputs": [],
   "source": [
    "rcParams['figure.figsize'] = 10,10\n",
    "rcParams['axes.linewidth'] = 4.0\n",
    "rcParams['savefig.dpi'] = 500\n",
    "rcParams['pdf.fonttype'] = 42\n",
    "rcParams['ps.fonttype'] = 42"
   ]
  },
  {
   "cell_type": "code",
   "execution_count": 3,
   "id": "specific-prize",
   "metadata": {},
   "outputs": [],
   "source": [
    "def rmse(pred, tar):\n",
    "    return np.sqrt(((pred - tar) ** 2).mean())\n",
    "\n",
    "def convertAffinity(x):\n",
    "    return 8.314*300/1000/4.184*np.log(x/1000000)"
   ]
  },
  {
   "cell_type": "code",
   "execution_count": 4,
   "id": "spread-scott",
   "metadata": {},
   "outputs": [],
   "source": [
    "#Conf 1\n",
    "tmp=[]\n",
    "df=[]\n",
    "#os.chdir(\"/mnt/u1/pde2/glide-pde-conf1/old_vsw_1\")\n",
    "os.chdir(\"/home/chuck/u1/pde2/glide-pde-conf1/vsw_xp_1\")\n",
    "f=\"vsw_DOCK_XP_c1.csv\"\n",
    "tmp=pd.read_csv(f, header=0, sep=',', engine='python')\n",
    "tmp.sort_values(by=['r_i_docking_score'], inplace=True)\n",
    "tmp.drop_duplicates(['title'], inplace=True)\n",
    "df.append(tmp)\n",
    "dF1=pd.concat(df, axis=0, ignore_index=True)\n",
    "dF1.drop(dF1.columns.difference(['title','r_i_docking_score']), 1, inplace=True)\n",
    "dF1.rename(columns={'r_i_docking_score': 'Conf 1'}, inplace=True)"
   ]
  },
  {
   "cell_type": "code",
   "execution_count": 5,
   "id": "acceptable-workshop",
   "metadata": {},
   "outputs": [],
   "source": [
    "#Conf 2\n",
    "tmp=[]\n",
    "df=[]\n",
    "#os.chdir(\"/mnt/u1/pde2/glide-pde-conf2/vsw_1\")\n",
    "os.chdir(\"/home/chuck/u1/pde2/glide-pde-conf2/vsw_xp_1\")\n",
    "f=\"vsw_DOCK_XP_c2.csv\"\n",
    "tmp=pd.read_csv(f, header=0, sep=',', engine='python')\n",
    "tmp.sort_values(by=['r_i_docking_score'], inplace=True)\n",
    "tmp.drop_duplicates(['title'], inplace=True)\n",
    "df.append(tmp)\n",
    "dF2=pd.concat(df, axis=0, ignore_index=True)\n",
    "dF2.drop(dF2.columns.difference(['title','r_i_docking_score']), 1, inplace=True)\n",
    "dF2.rename(columns={'r_i_docking_score': 'Conf 2'}, inplace=True)"
   ]
  },
  {
   "cell_type": "code",
   "execution_count": 6,
   "id": "traditional-microphone",
   "metadata": {},
   "outputs": [],
   "source": [
    "combined=pd.merge(dF1, dF2, how='outer', on='title')\n",
    "combined['Lowest'] = combined[['Conf 1','Conf 2']].min(axis=1)\n",
    "combined.sort_values(by=['Lowest'], inplace=True)\n",
    "combined[\"Rank\"] = combined['Lowest'].rank(method='first')\n",
    "combined.sort_values(['title'], inplace=True)"
   ]
  },
  {
   "cell_type": "code",
   "execution_count": 7,
   "id": "suspected-migration",
   "metadata": {},
   "outputs": [],
   "source": [
    "all=pd.read_csv(\"/home/chuck/ipn/PDE2/all.csv\", header=0, sep=',', engine='python')\n",
    "fin1=pd.merge(combined, all, how='outer', on='title')\n"
   ]
  },
  {
   "cell_type": "markdown",
   "id": "german-cornwall",
   "metadata": {},
   "source": [
    "## Plot "
   ]
  },
  {
   "cell_type": "code",
   "execution_count": 8,
   "id": "racial-psychology",
   "metadata": {},
   "outputs": [],
   "source": [
    "fin1['Exp dG'] = fin1['IC50'].apply(convertAffinity)"
   ]
  },
  {
   "cell_type": "code",
   "execution_count": 9,
   "id": "brilliant-chance",
   "metadata": {},
   "outputs": [],
   "source": [
    "filter = fin1['title'].str.contains(\"ligprep_1.sdf\")\n",
    "fin1 = fin1[~filter]\n",
    "fin1.to_csv( \"/home/chuck/ipn/PDE2/DOCK_XP-scores.csv\", index=False)"
   ]
  },
  {
   "cell_type": "code",
   "execution_count": 10,
   "id": "weighted-brake",
   "metadata": {},
   "outputs": [
    {
     "name": "stdout",
     "output_type": "stream",
     "text": [
      "                            OLS Regression Results                            \n",
      "==============================================================================\n",
      "Dep. Variable:                 Exp dG   R-squared:                       0.012\n",
      "Model:                            OLS   Adj. R-squared:                  0.005\n",
      "Method:                 Least Squares   F-statistic:                     1.652\n",
      "Date:                Mon, 20 Jun 2022   Prob (F-statistic):              0.201\n",
      "Time:                        20:06:58   Log-Likelihood:                -270.06\n",
      "No. Observations:                 140   AIC:                             544.1\n",
      "Df Residuals:                     138   BIC:                             550.0\n",
      "Df Model:                           1                                         \n",
      "Covariance Type:            nonrobust                                         \n",
      "==============================================================================\n",
      "                 coef    std err          t      P>|t|      [0.025      0.975]\n",
      "------------------------------------------------------------------------------\n",
      "const         -4.9743      0.577     -8.617      0.000      -6.116      -3.833\n",
      "Lowest         0.1127      0.088      1.285      0.201      -0.061       0.286\n",
      "==============================================================================\n",
      "Omnibus:                        7.633   Durbin-Watson:                   1.341\n",
      "Prob(Omnibus):                  0.022   Jarque-Bera (JB):                7.994\n",
      "Skew:                           0.566   Prob(JB):                       0.0184\n",
      "Kurtosis:                       2.705   Cond. No.                         27.4\n",
      "==============================================================================\n",
      "\n",
      "Notes:\n",
      "[1] Standard Errors assume that the covariance matrix of the errors is correctly specified.\n",
      "Y-Intercept:  -4.974317587410769\n",
      "Slope:  [0.         0.11272328]\n"
     ]
    }
   ],
   "source": [
    "X = sm.add_constant(fin1[\"Lowest\"])\n",
    "#X = sm.add_constant(fin1[\"Conf 2\"])\n",
    "Y = fin1[\"Exp dG\"]\n",
    "\n",
    "results = sm.OLS(Y,X.astype(float)).fit()\n",
    "print(results.summary())\n",
    "\n",
    "regr = linear_model.LinearRegression()\n",
    "regr.fit(X,Y)\n",
    "b = regr.intercept_\n",
    "m = regr.coef_[1]\n",
    "print('Y-Intercept: ', regr.intercept_)\n",
    "print('Slope: ', regr.coef_)"
   ]
  },
  {
   "cell_type": "code",
   "execution_count": 11,
   "id": "minus-intention",
   "metadata": {},
   "outputs": [
    {
     "data": {
      "image/png": "[encoded data removed]",
      "text/plain": [
       "<Figure size 720x720 with 1 Axes>"
      ]
     },
     "metadata": {
      "needs_background": "light"
     },
     "output_type": "display_data"
    }
   ],
   "source": [
    "X = fin1[\"Lowest\"]\n",
    "Y=fin1[\"Exp dG\"]\n",
    "\n",
    "# Scatter plot\n",
    "plt.scatter(X, Y, s=12**2, c='C0')\n",
    "# Add correlation line\n",
    "axes = plt.gca()\n",
    "m, b = np.polyfit(X, Y, 1)\n",
    "X_plot = np.linspace(axes.get_xlim()[0],axes.get_xlim()[1],100)\n",
    "plt.plot(X_plot, m*X_plot + b, '-',color='k')\n",
    "plt.xlabel(r'Predicted $\\Delta G \\ (\\frac{kcal}{mol})$', fontsize=25)\n",
    "plt.ylabel(r'Experimental $\\Delta$G $(\\frac{kcal}{mol})$', fontsize=25)\n",
    "plt.xticks(fontsize=22)\n",
    "plt.yticks(fontsize=22)\n",
    "plt.tick_params(which='both',direction='in',length=8, width=3,)\n",
    "# Save figure\n",
    "#plt.savefig(graph_filepath, dpi=300, format='png', bbox_inches='tight')\n",
    "plt.savefig(\"/home/chuck/ipn/figs/corr-xp.png\", format='png', transparent=True, bbox_inches='tight')\n",
    "\n",
    "#rmse_val = rmse(X, Y)\n",
    "#print(\"RMSD is: \" + str(rmse_val))"
   ]
  },
  {
   "cell_type": "code",
   "execution_count": null,
   "id": "southern-blade",
   "metadata": {},
   "outputs": [],
   "source": []
  }
 ],
 "metadata": {
  "kernelspec": {
   "display_name": "Python 3 (ipykernel)",
   "language": "python",
   "name": "python3"
  },
  "language_info": {
   "codemirror_mode": {
    "name": "ipython",
    "version": 3
   },
   "file_extension": ".py",
   "mimetype": "text/x-python",
   "name": "python",
   "nbconvert_exporter": "python",
   "pygments_lexer": "ipython3",
   "version": "3.10.9"
  }
 },
 "nbformat": 4,
 "nbformat_minor": 5
}
