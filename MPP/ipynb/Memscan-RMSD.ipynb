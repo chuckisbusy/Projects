{
 "cells": [
  {
   "cell_type": "code",
   "execution_count": 1,
   "id": "98dfd75b",
   "metadata": {},
   "outputs": [],
   "source": [
    "from pyrosetta import *\n",
    "import os\n",
    "import string\n",
    "import argparse\n",
    "import numpy as np\n",
    "import matplotlib.pyplot as plt\n",
    "import pandas as pd\n",
    "import seaborn as sns\n",
    "%matplotlib inline"
   ]
  },
  {
   "cell_type": "code",
   "execution_count": 2,
   "id": "a13d0f39",
   "metadata": {},
   "outputs": [
    {
     "name": "stdout",
     "output_type": "stream",
     "text": [
      "┌──────────────────────────────────────────────────────────────────────────────┐\n",
      "│                                 PyRosetta-4                                  │\n",
      "│              Created in JHU by Sergey Lyskov and PyRosetta Team              │\n",
      "│              (C) Copyright Rosetta Commons Member Institutions               │\n",
      "│                                                                              │\n",
      "│ NOTE: USE OF PyRosetta FOR COMMERCIAL PURPOSES REQUIRE PURCHASE OF A LICENSE │\n",
      "│         See LICENSE.PyRosetta.md or email license@uw.edu for details         │\n",
      "└──────────────────────────────────────────────────────────────────────────────┘\n",
      "PyRosetta-4 2024 [Rosetta PyRosetta4.Release.python311.ubuntu 2024.39+release.59628fbc5bc09f1221e1642f1f8d157ce49b1410 2024-09-23T07:49:48] retrieved from: http://www.pyrosetta.org\n",
      "core.init: Checking for fconfig files in pwd and ./rosetta/flags\n",
      "core.init: Rosetta version: PyRosetta4.Release.python311.ubuntu r387 2024.39+release.59628fbc5b 59628fbc5bc09f1221e1642f1f8d157ce49b1410 http://www.pyrosetta.org 2024-09-23T07:49:48\n",
      "core.init: Rosetta extras: []\n",
      "core.init: command: PyRosetta -ex1 -ex2aro -database /opt/Python-3.11.10/lib/python3.11/site-packages/pyrosetta-2024.39+release.59628fbc5b-py3.11-linux-x86_64.egg/pyrosetta/database\n",
      "basic.random.init_random_generator: 'RNG device' seed mode, using '/dev/urandom', seed=2090657653 seed_offset=0 real_seed=2090657653\n",
      "basic.random.init_random_generator: RandomGenerator:init: Normal mode, seed=2090657653 RG_type=mt19937\n"
     ]
    }
   ],
   "source": [
    "init()"
   ]
  },
  {
   "cell_type": "code",
   "execution_count": 3,
   "id": "dcaa6ab6",
   "metadata": {},
   "outputs": [],
   "source": [
    "os.chdir(\"/home/cadeniran/storage/cadeniran/mpp/memscan-prot/\")\n",
    "from modules import AddSpanlessMembraneMover\n",
    "from modules import HelixTools\n",
    "from modules import HydrophobicMoment\n",
    "from modules import analyze_y\n",
    "from modules import sns_heatmap\n",
    "from modules import AH_CA_rmsd"
   ]
  },
  {
   "cell_type": "code",
   "execution_count": 56,
   "id": "40c292e9",
   "metadata": {},
   "outputs": [],
   "source": [
    "def myrmsd(native, best):\n",
    "    number_of_residues = native.size()\n",
    "    pymol = PyMOLMover()\n",
    "\n",
    "    #initiate the spanless membrane mover\n",
    "    fm = AddSpanlessMembraneMover()\n",
    "    fm.add_membrane_virtual(native)\n",
    "    fm.apply(native)\n",
    "\n",
    "    #move the protein along the x and y axes to keep embedding the same\n",
    "    cmass = pyrosetta.rosetta.core.pose.center_of_mass(native, 1, native.size()-1)\n",
    "    move_xy = pyrosetta.rosetta.numeric.xyzVector_double_t(-cmass[0], -cmass[1],0)\n",
    "\n",
    "    #run the translation\n",
    "    shifted = native.clone()\n",
    "    copy_best = best.clone()\n",
    "    translation_mover = pyrosetta.rosetta.protocols.rigid.WholeBodyTranslationMover(move_xy)\n",
    "    translation_mover.apply(shifted)\n",
    " \n",
    "    ht = HelixTools()\n",
    "    helix_normal = ht.calculate_screw_axis(shifted)\n",
    "    angle_with_x = ht.calc_angle(helix_normal,'x')\n",
    "    angle_with_y = ht.calc_angle(helix_normal,'y')\n",
    "    angle_with_z = ht.calc_angle(helix_normal,'z')\n",
    "    print(angle_with_x, angle_with_y, angle_with_z)\n",
    "\n",
    "    helix_best_normal = ht.calculate_screw_axis(best)\n",
    "    best_angle_with_x = ht.calc_angle(helix_best_normal,'x')\n",
    "    best_angle_with_y = ht.calc_angle(helix_best_normal,'y')\n",
    "    best_angle_with_z = ht.calc_angle(helix_best_normal,'z')\n",
    "    print(best_angle_with_x, best_angle_with_y, best_angle_with_z)\n",
    "\n",
    "\n",
    "    x_diff = best_angle_with_x - angle_with_x\n",
    "\n",
    "    align_x = pyrosetta.rosetta.protocols.rigid.WholeBodyRotationMover(pyrosetta.rosetta.numeric.xyzVector_double_t(0,1,0), pyrosetta.rosetta.core.pose.center_of_mass(shifted, 1, shifted.size()-1), x_diff)\n",
    "    align_x.apply(shifted)\n",
    "\n",
    "    helix_best_normal = ht.calculate_screw_axis(shifted)\n",
    "    best_angle_with_x = ht.calc_angle(helix_best_normal,'x')\n",
    "    best_angle_with_y = ht.calc_angle(helix_best_normal,'y')\n",
    "    best_angle_with_z = ht.calc_angle(helix_best_normal,'z')\n",
    "    print(best_angle_with_x, best_angle_with_y, best_angle_with_z)\n",
    "\n",
    "    y_diff = best_angle_with_y - angle_with_y\n",
    "\n",
    "    align_y = pyrosetta.rosetta.protocols.rigid.WholeBodyRotationMover(pyrosetta.rosetta.numeric.xyzVector_double_t(0,1,0), pyrosetta.rosetta.core.pose.center_of_mass(shifted, 1, shifted.size()-1), y_diff)\n",
    "    align_y.apply(shifted)\n",
    "\n",
    "    helix_best_normal = ht.calculate_screw_axis(shifted)\n",
    "    best_angle_with_x = ht.calc_angle(helix_best_normal,'x')\n",
    "    best_angle_with_y = ht.calc_angle(helix_best_normal,'y')\n",
    "    best_angle_with_z = ht.calc_angle(helix_best_normal,'z')\n",
    "    print(best_angle_with_x, best_angle_with_y, best_angle_with_z)\n",
    "\n",
    "    z_diff = best_angle_with_z - angle_with_z\n",
    "\n",
    "    align_z = pyrosetta.rosetta.protocols.rigid.WholeBodyRotationMover(pyrosetta.rosetta.numeric.xyzVector_double_t(0,0,1), pyrosetta.rosetta.core.pose.center_of_mass(shifted, 1, shifted.size()-1), z_diff)\n",
    "    align_z.apply(shifted)\n",
    "\n",
    "    helix_best_normal = ht.calculate_screw_axis(shifted)\n",
    "    best_angle_with_x = ht.calc_angle(helix_best_normal,'x')\n",
    "    best_angle_with_y = ht.calc_angle(helix_best_normal,'y')\n",
    "    best_angle_with_z = ht.calc_angle(helix_best_normal,'z')\n",
    "    print(best_angle_with_x, best_angle_with_y, best_angle_with_z)\n",
    "\n",
    "    shifted.dump_pdb(\"shifted_native.pdb\")\n",
    " \n",
    "    ca_shifted = []\n",
    "    ca_best = []\n",
    "\n",
    "    #calculate the CA positions for the shifted original and the best structures\n",
    "    for i in range(1,shifted.size()):\n",
    "        ca_shifted.append(np.array(shifted.residue(i).xyz('CA')))\n",
    "    for j in range(1, best.size()):\n",
    "        ca_best.append(np.array(best.residue(j).xyz('CA')))\n",
    "  \n",
    "    shifted_df = pd.DataFrame(ca_shifted)\n",
    "    best_df = pd.DataFrame(ca_best)\n",
    "    \n",
    "    shifted_df.to_csv('shifted.csv', sep=' ', index=False, header=False)\n",
    "    best_df.to_csv('best.csv', sep=' ', index=False, header=False)\n",
    "\n",
    "    total = 0\n",
    "    for k in range(number_of_residues):\n",
    "        if all(item < 0 for item in shifted_df[2]) is all(item < 0 for item in best_df[2]):\n",
    "            total = total + np.square((ca_best[k][0] - ca_shifted[k][0])) + np.square((ca_best[k][1] - ca_shifted[k][1])) + np.square((ca_best[k][2] - ca_shifted[k][2]))\n",
    "        else:\n",
    "            total = total + np.square((abs(ca_shifted[k][0]) - abs(ca_best[k][0]))) + np.square((abs(ca_shifted[k][1]) - abs(ca_best[k][1]))) + np.square((abs(ca_shifted[k][2]) - abs(ca_best[k][2])))\n",
    "\n",
    "    average = total/len(ca_best)\n",
    "    squared_average = np.sqrt(average)\n",
    "\n",
    "    return squared_average"
   ]
  },
  {
   "cell_type": "code",
   "execution_count": 46,
   "id": "82cc4681",
   "metadata": {},
   "outputs": [],
   "source": [
    "def as_matrix(pose, mask = None):\n",
    "    \"\"\"\n",
    "    Return an (n, 3) matrix, where n is the number of atoms in the pose and 3\n",
    "    refers to the 3 dimensional X, Y and Z degrees of freedom of each atom.\n",
    "    \"\"\"\n",
    "    \n",
    "    coords = []\n",
    "    index = 0\n",
    "    for res_index in range(1, pose.total_residue() + 1):\n",
    "        residue = pose.residue(res_index)\n",
    "        for atom_index in range(1, residue.natoms() + 1):\n",
    "            if residue.type().is_virtual(atom_index):\n",
    "                continue\n",
    "            if mask == None or mask[index] == 1:\n",
    "                coords.append(residue.xyz(atom_index))\n",
    "            index += 1\n",
    "    return np.array(coords)"
   ]
  },
  {
   "cell_type": "code",
   "execution_count": 47,
   "id": "1527c64c",
   "metadata": {},
   "outputs": [],
   "source": [
    "def rmsd(pose, reference_pose, movable_mask = None, reference_mask = None):\n",
    "    \"\"\"\n",
    "    Calculate the RMSD between this pose and a reference pose. Also\n",
    "    returns the number of atoms considered for this calculation. If movable\n",
    "    and references masks are provided, only consider the atoms whose index\n",
    "    in the corresponding mask is set to True.\n",
    "    \"\"\"\n",
    "\n",
    "    movable_coords   = as_matrix(pose, movable_mask)\n",
    "    reference_coords = as_matrix(reference_pose, reference_mask)\n",
    "\n",
    "    assert len(movable_coords) == len(reference_coords), \\\n",
    "        \"Movable (%d) and Reference (%d) number of atoms do not match\" % \\\n",
    "        (len(movable_coords), len(reference_coords))\n",
    "\n",
    "    n_atoms          = len(reference_coords)\n",
    "    distance         = reference_coords - movable_coords\n",
    "\n",
    "    return n_atoms, np.sqrt(np.sum(distance * distance) / n_atoms)"
   ]
  },
  {
   "cell_type": "markdown",
   "id": "2b48852f",
   "metadata": {},
   "source": [
    "### RMSD"
   ]
  },
  {
   "cell_type": "code",
   "execution_count": 36,
   "id": "2d96a6ad",
   "metadata": {},
   "outputs": [
    {
     "name": "stdout",
     "output_type": "stream",
     "text": [
      "core.import_pose.import_pose: File 'input_pdbs/1eak_A_renum.pdb' automatically determined to be of type PDB\n",
      "core.conformation.Conformation: Found disulfide between residues 29 34\n",
      "core.conformation.Conformation: Found disulfide between residues 202 228\n",
      "core.conformation.Conformation: Found disulfide between residues 216 243\n",
      "core.conformation.Conformation: Found disulfide between residues 260 286\n",
      "core.conformation.Conformation: Found disulfide between residues 274 301\n",
      "core.conformation.Conformation: Found disulfide between residues 318 344\n",
      "core.conformation.Conformation: Found disulfide between residues 332 359\n",
      "core.import_pose.import_pose: File 'shifted/shift_1eak.pdb' automatically determined to be of type PDB\n",
      "core.conformation.Conformation: Found disulfide between residues 29 34\n",
      "core.conformation.Conformation: Found disulfide between residues 202 228\n",
      "core.conformation.Conformation: Found disulfide between residues 216 243\n",
      "core.conformation.Conformation: Found disulfide between residues 260 286\n",
      "core.conformation.Conformation: Found disulfide between residues 274 301\n",
      "core.conformation.Conformation: Found disulfide between residues 318 344\n",
      "core.conformation.Conformation: Found disulfide between residues 332 359\n",
      "core.import_pose.import_pose: File 'results/1eak_A/output_pdbs/1eak_A_renum_best_pose_overall.pdb' automatically determined to be of type PDB\n",
      "core.conformation.Conformation: Found disulfide between residues 29 34\n",
      "core.conformation.Conformation: Found disulfide between residues 202 228\n",
      "core.conformation.Conformation: Found disulfide between residues 216 243\n",
      "core.conformation.Conformation: Found disulfide between residues 260 286\n",
      "core.conformation.Conformation: Found disulfide between residues 274 301\n",
      "core.conformation.Conformation: Found disulfide between residues 318 344\n",
      "core.conformation.Conformation: Found disulfide between residues 332 359\n"
     ]
    }
   ],
   "source": [
    "protein = \"1eak_A_renum\"\n",
    "protein_tag = protein.split(sep='_')[0]\n",
    "multiple_tag = protein.split(sep='_')[1]\n",
    "\n",
    "native = pose_from_pdb('input_pdbs/{}_{}_renum.pdb'.format(protein_tag,multiple_tag))\n",
    "shifted = pose_from_pdb('shifted/shift_{}.pdb'.format(protein_tag))\n",
    "best = pose_from_pdb('results/{}_{}/output_pdbs/{}_{}_renum_best_pose_overall.pdb'.format(protein_tag,multiple_tag,protein_tag,multiple_tag))"
   ]
  },
  {
   "cell_type": "code",
   "execution_count": 37,
   "id": "72595aa1",
   "metadata": {},
   "outputs": [
    {
     "name": "stdout",
     "output_type": "stream",
     "text": [
      "================================================================================\n",
      "WELCOME TO THE WORLD OF MEMBRANE PROTEINS...\n",
      "================================================================================\n",
      "\n",
      "Setting initial membrane center and normal to position used by the user-provided membrane residue\n",
      "9.9713079900983 93.26343851084194 99.41187784869511\n",
      "19.1799589965513 81.11276203288571 73.14531032855724\n",
      "18.909501568985434 93.26343851084195 108.60462796585799\n",
      "18.909501568985494 93.26343851084194 108.60462796585806\n",
      "19.442570414908797 84.55220655192204 108.60462796585804\n",
      "The RMSD is: 24.40341556572148\n"
     ]
    }
   ],
   "source": [
    "print(\"The RMSD is: {}\".format(AH_CA_rmsd(native, best)))"
   ]
  },
  {
   "cell_type": "code",
   "execution_count": null,
   "id": "bcf7d56f",
   "metadata": {},
   "outputs": [],
   "source": []
  },
  {
   "cell_type": "code",
   "execution_count": 61,
   "id": "a0c8cbd3",
   "metadata": {},
   "outputs": [
    {
     "name": "stdout",
     "output_type": "stream",
     "text": [
      "core.import_pose.import_pose: File 'input_pdbs/6ei6_A_renum.pdb' automatically determined to be of type PDB\n",
      "core.conformation.Conformation: [ WARNING ] missing heavyatom:  OXT on residue ALA:CtermProteinFull 242\n",
      "core.conformation.Conformation: Found disulfide between residues 1 8\n",
      "core.import_pose.import_pose: File 'shifted/shift_6ei6.pdb' automatically determined to be of type PDB\n",
      "core.conformation.Conformation: Found disulfide between residues 1 8\n",
      "core.import_pose.import_pose: File 'results/6ei6_A/output_pdbs/6ei6_A_renum_best_pose_overall.pdb' automatically determined to be of type PDB\n",
      "core.conformation.Conformation: Found disulfide between residues 1 8\n"
     ]
    }
   ],
   "source": [
    "protein = \"6ei6_A_renum\"\n",
    "protein_tag = protein.split(sep='_')[0]\n",
    "multiple_tag = protein.split(sep='_')[1]\n",
    "\n",
    "native = pose_from_pdb('input_pdbs/{}_{}_renum.pdb'.format(protein_tag,multiple_tag))\n",
    "shifted = pose_from_pdb('shifted/shift_{}.pdb'.format(protein_tag))\n",
    "best = pose_from_pdb('results/{}_{}/output_pdbs/{}_{}_renum_best_pose_overall.pdb'.format(protein_tag,multiple_tag,protein_tag,multiple_tag))"
   ]
  },
  {
   "cell_type": "code",
   "execution_count": 60,
   "id": "c0851d76",
   "metadata": {},
   "outputs": [
    {
     "name": "stdout",
     "output_type": "stream",
     "text": [
      "================================================================================\n",
      "WELCOME TO THE WORLD OF MEMBRANE PROTEINS...\n",
      "================================================================================\n",
      "\n",
      "Setting initial membrane center and normal to position used by the user-provided membrane residue\n",
      "66.81190641123241 156.79378378735262 89.13212284059695\n",
      "58.451960855816964 143.76023828065902 74.02717032297913\n",
      "67.20937795711127 156.79378378735265 85.85769740967923\n",
      "67.20937795711137 156.79378378735274 85.85769740967913\n",
      "70.47396369375566 160.00420592060772 85.85769740967912\n",
      "The RMSD is: 21.32092833706637\n"
     ]
    }
   ],
   "source": [
    "print(\"The RMSD is: {}\".format(myrmsd(native, best)))"
   ]
  },
  {
   "cell_type": "code",
   "execution_count": 62,
   "id": "d1445545",
   "metadata": {},
   "outputs": [
    {
     "name": "stdout",
     "output_type": "stream",
     "text": [
      "RMSD: 21.516 angstrom (3982 atoms)\n"
     ]
    }
   ],
   "source": [
    "movable_mask = None\n",
    "reference_mask = None\n",
    "\n",
    "count, rms = rmsd(best, shifted, movable_mask, reference_mask)\n",
    "print(\"RMSD: %6.3f angstrom (%3d atoms)\" % (rms, count))"
   ]
  },
  {
   "cell_type": "code",
   "execution_count": null,
   "id": "405c1df1",
   "metadata": {},
   "outputs": [],
   "source": []
  }
 ],
 "metadata": {
  "kernelspec": {
   "display_name": "Python 3 (ipykernel)",
   "language": "python",
   "name": "python3"
  },
  "language_info": {
   "codemirror_mode": {
    "name": "ipython",
    "version": 3
   },
   "file_extension": ".py",
   "mimetype": "text/x-python",
   "name": "python",
   "nbconvert_exporter": "python",
   "pygments_lexer": "ipython3",
   "version": "3.11.10"
  }
 },
 "nbformat": 4,
 "nbformat_minor": 5
}
