{
 "cells": [
  {
   "cell_type": "code",
   "execution_count": 1,
   "id": "e9bd9da6",
   "metadata": {},
   "outputs": [],
   "source": [
    "import os\n",
    "from rdkit import Chem\n",
    "from rdkit.Chem import Draw"
   ]
  },
  {
   "cell_type": "code",
   "execution_count": 2,
   "id": "f2a7f423",
   "metadata": {},
   "outputs": [],
   "source": [
    "mol = Chem.MolFromSmiles('CN1CCC2=C(CC1)NC3=CC=CC=C23')"
   ]
  },
  {
   "cell_type": "code",
   "execution_count": null,
   "id": "277d23b6",
   "metadata": {},
   "outputs": [],
   "source": [
    "smiles = [\n",
    "    'N#CC(OC1OC(COC2OC(CO)C(O)C(O)C2O)C(O)C(O)C1O)c1ccccc1',\n",
    "    'c1ccc2c(c1)ccc1c2ccc2c3ccccc3ccc21',\n",
    "    'C=C(C)C1Cc2c(ccc3c2OC2COc4cc(OC)c(OC)cc4C2C3=O)O1',\n",
    "    'ClC(Cl)=C(c1ccc(Cl)cc1)c1ccc(Cl)cc1']\n",
    "\n",
    "mols = [Chem.MolFromSmiles(smi) for smi in smiles]"
   ]
  },
  {
   "cell_type": "code",
   "execution_count": 3,
   "id": "0b499959",
   "metadata": {},
   "outputs": [],
   "source": [
    "img = Draw.MolToImage(mol)"
   ]
  },
  {
   "cell_type": "code",
   "execution_count": 4,
   "id": "344ab0ca",
   "metadata": {},
   "outputs": [
    {
     "data": {
      "image/png": "[encoded data removed]",
      "text/plain": [
       "<PIL.PngImagePlugin.PngImageFile image mode=RGB size=300x300 at 0x7250D475AEC0>"
      ]
     },
     "execution_count": 4,
     "metadata": {},
     "output_type": "execute_result"
    }
   ],
   "source": [
    "img"
   ]
  },
  {
   "cell_type": "code",
   "execution_count": 5,
   "id": "89d25a7b",
   "metadata": {},
   "outputs": [],
   "source": [
    "os.chdir(\"/home/cadeniran/u1/5ht\")\n",
    "writer = Chem.SDWriter('dm506.sdf')\n",
    "writer.write(mol)"
   ]
  },
  {
   "cell_type": "code",
   "execution_count": null,
   "id": "0ba929d8",
   "metadata": {},
   "outputs": [],
   "source": []
  }
 ],
 "metadata": {
  "kernelspec": {
   "display_name": "Python 3 (ipykernel)",
   "language": "python",
   "name": "python3"
  },
  "language_info": {
   "codemirror_mode": {
    "name": "ipython",
    "version": 3
   },
   "file_extension": ".py",
   "mimetype": "text/x-python",
   "name": "python",
   "nbconvert_exporter": "python",
   "pygments_lexer": "ipython3",
   "version": "3.11.10"
  }
 },
 "nbformat": 4,
 "nbformat_minor": 5
}
