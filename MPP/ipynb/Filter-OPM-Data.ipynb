{
 "cells": [
  {
   "cell_type": "code",
   "execution_count": 1,
   "id": "af5f3fe9-edfe-43e5-b391-3cbbac0c3e01",
   "metadata": {},
   "outputs": [],
   "source": [
    "import pandas as pd\n",
    "import numpy as np\n",
    "import seaborn as sns\n",
    "import os\n",
    "import matplotlib.pyplot as plt\n",
    "%matplotlib inline"
   ]
  },
  {
   "cell_type": "code",
   "execution_count": 2,
   "id": "22786581-cafa-4777-b527-c6f83abeb862",
   "metadata": {},
   "outputs": [],
   "source": [
    "plt.rcParams['figure.figsize'] = 5,5\n",
    "plt.rcParams['axes.linewidth'] = 2.0\n",
    "plt.rcParams['savefig.dpi'] = 500\n",
    "plt.rcParams['pdf.fonttype'] = 42\n",
    "plt.rcParams['ps.fonttype'] = 42\n",
    "np.set_printoptions(legacy='1.25')"
   ]
  },
  {
   "cell_type": "markdown",
   "id": "5dfad70e-bc29-4fa2-b8b6-44e4286533e9",
   "metadata": {},
   "source": [
    "### Import Data"
   ]
  },
  {
   "cell_type": "code",
   "execution_count": 3,
   "id": "caa51503-7a3a-472c-bd38-d928ca955137",
   "metadata": {},
   "outputs": [],
   "source": [
    "os.chdir(\"/home/cadeniran/ipn/data\")\n",
    "proteins=pd.read_csv(\"proteins-2024-08-02.csv\", header=0, sep=',', engine='python')\n",
    "spfam = pd.read_csv(\"superfamilies-2024-08-02.csv\", usecols=['ordering', 'name'])"
   ]
  },
  {
   "cell_type": "markdown",
   "id": "f6387fb6-6e6e-4e25-b753-28987dd1ac8e",
   "metadata": {},
   "source": [
    "### Data Explorataion"
   ]
  },
  {
   "cell_type": "code",
   "execution_count": 4,
   "id": "c88da3b7-7cb3-4907-a3ab-ae5c63b8288f",
   "metadata": {},
   "outputs": [
    {
     "data": {
      "text/plain": [
       "Index(['id', 'ordering', 'family_name_cache', 'species_name_cache',\n",
       "       'membrane_name_cache', 'name', 'description', 'comments', 'pdbid',\n",
       "       'resolution', 'topology_subunit', 'topology_show_in', 'thickness',\n",
       "       'thicknesserror', 'subunit_segments', 'tilt', 'tilterror', 'gibbs',\n",
       "       'tau', 'verification', 'membrane_id', 'species_id', 'family_id',\n",
       "       'superfamily_id', 'classtype_id', 'type_id',\n",
       "       'secondary_representations_count', 'structure_subunits_count',\n",
       "       'citations_count', 'created_at', 'updated_at', 'uniprotcode',\n",
       "       'interpro', 'superfamily_name'],\n",
       "      dtype='object')"
      ]
     },
     "execution_count": 4,
     "metadata": {},
     "output_type": "execute_result"
    }
   ],
   "source": [
    "spfam = spfam.rename(columns={'ordering': 'superfamily_id', 'name': 'superfamily_name'})\n",
    "df = proteins.merge(spfam[['superfamily_id', 'superfamily_name']], how='left', on='superfamily_id')\n",
    "df.columns"
   ]
  },
  {
   "cell_type": "code",
   "execution_count": 5,
   "id": "34a56b4c-3657-4f21-be46-f3040255a3c9",
   "metadata": {},
   "outputs": [
    {
     "name": "stdout",
     "output_type": "stream",
     "text": [
      "id                                   int64\n",
      "ordering                           float64\n",
      "family_name_cache                   object\n",
      "species_name_cache                  object\n",
      "membrane_name_cache                 object\n",
      "name                                object\n",
      "description                         object\n",
      "comments                            object\n",
      "pdbid                               object\n",
      "resolution                          object\n",
      "topology_subunit                    object\n",
      "topology_show_in                      bool\n",
      "thickness                          float64\n",
      "thicknesserror                     float64\n",
      "subunit_segments                     int64\n",
      "tilt                                 int64\n",
      "tilterror                          float64\n",
      "gibbs                              float64\n",
      "tau                                float64\n",
      "verification                        object\n",
      "membrane_id                          int64\n",
      "species_id                           int64\n",
      "family_id                            int64\n",
      "superfamily_id                       int64\n",
      "classtype_id                         int64\n",
      "type_id                              int64\n",
      "secondary_representations_count      int64\n",
      "structure_subunits_count             int64\n",
      "citations_count                      int64\n",
      "created_at                          object\n",
      "updated_at                          object\n",
      "uniprotcode                         object\n",
      "interpro                           float64\n",
      "superfamily_name                    object\n",
      "dtype: object\n"
     ]
    }
   ],
   "source": [
    "print(df.dtypes)"
   ]
  },
  {
   "cell_type": "code",
   "execution_count": 6,
   "id": "d798da0a-3a3f-45dd-9af4-531166c9ca1c",
   "metadata": {},
   "outputs": [
    {
     "name": "stdout",
     "output_type": "stream",
     "text": [
      "Type: 3\n",
      "Class: 11\n",
      "Membrane: 24\n",
      "Superfamily: 607\n",
      "Species: 1150\n",
      "Family: 1240\n"
     ]
    }
   ],
   "source": [
    "print(\"Type:\", df['type_id'].max())\n",
    "print(\"Class:\", df['classtype_id'].max())\n",
    "print(\"Membrane:\", df['membrane_id'].max())\n",
    "print(\"Superfamily:\", df['superfamily_id'].max())\n",
    "print(\"Species:\", df['species_id'].max())\n",
    "print(\"Family:\", df['family_id'].max())"
   ]
  },
  {
   "cell_type": "code",
   "execution_count": 7,
   "id": "6531ea75-08d7-47cc-adb1-731a3c175020",
   "metadata": {},
   "outputs": [
    {
     "name": "stdout",
     "output_type": "stream",
     "text": [
      "classtype_id\n",
      "1     5450\n",
      "3      634\n",
      "11     568\n",
      "7      520\n",
      "2      459\n",
      "5      372\n",
      "4      366\n",
      "6      294\n",
      "9      150\n",
      "10      85\n",
      "8       17\n",
      "Name: count, dtype: int64\n"
     ]
    }
   ],
   "source": [
    "print(df['classtype_id'].value_counts())"
   ]
  },
  {
   "cell_type": "code",
   "execution_count": 8,
   "id": "582cc297-8a03-44ae-babe-08448c5e1116",
   "metadata": {},
   "outputs": [
    {
     "name": "stdout",
     "output_type": "stream",
     "text": [
      "type_id\n",
      "1    6477\n",
      "2    1666\n",
      "3     772\n",
      "Name: count, dtype: int64\n"
     ]
    }
   ],
   "source": [
    "print(df['type_id'].value_counts())"
   ]
  },
  {
   "cell_type": "code",
   "execution_count": 9,
   "id": "933e1256-89b3-428d-8886-1ceb679fcd87",
   "metadata": {},
   "outputs": [],
   "source": [
    "df['pdbid'] = df['pdbid'].str.replace('=','')\n",
    "df['pdbid'] = df['pdbid'].str.replace('\"','')"
   ]
  },
  {
   "cell_type": "code",
   "execution_count": 10,
   "id": "0d5b6c02-0eea-4e2d-ab36-802b60de6168",
   "metadata": {},
   "outputs": [
    {
     "data": {
      "text/plain": [
       "id                                    0\n",
       "ordering                              0\n",
       "family_name_cache                     0\n",
       "species_name_cache                    0\n",
       "membrane_name_cache                   0\n",
       "name                                  0\n",
       "description                        8914\n",
       "comments                           7714\n",
       "pdbid                                 0\n",
       "resolution                           36\n",
       "topology_subunit                   2262\n",
       "topology_show_in                      0\n",
       "thickness                             0\n",
       "thicknesserror                       35\n",
       "subunit_segments                      0\n",
       "tilt                                  0\n",
       "tilterror                            29\n",
       "gibbs                                 0\n",
       "tau                                8765\n",
       "verification                       8693\n",
       "membrane_id                           0\n",
       "species_id                            0\n",
       "family_id                             0\n",
       "superfamily_id                        0\n",
       "classtype_id                          0\n",
       "type_id                               0\n",
       "secondary_representations_count       0\n",
       "structure_subunits_count              0\n",
       "citations_count                       0\n",
       "created_at                            0\n",
       "updated_at                            0\n",
       "uniprotcode                         334\n",
       "interpro                           8915\n",
       "superfamily_name                    272\n",
       "dtype: int64"
      ]
     },
     "execution_count": 10,
     "metadata": {},
     "output_type": "execute_result"
    }
   ],
   "source": [
    "df.isnull().sum()"
   ]
  },
  {
   "cell_type": "code",
   "execution_count": null,
   "id": "63628e99-386f-46a0-93e8-ae4e9492c5e9",
   "metadata": {},
   "outputs": [],
   "source": []
  },
  {
   "cell_type": "raw",
   "id": "758cbac0-1812-4e71-ba89-4a9195939de5",
   "metadata": {},
   "source": [
    "Continue with \"Strict Removal\"\n",
    "The \"Sequential Removal\" is more passive (6000 entries), the Strict Removal is more aggressive (3000 entries)."
   ]
  },
  {
   "cell_type": "markdown",
   "id": "b54cc5ca-06ca-4fff-ab73-2b5106d8bae6",
   "metadata": {
    "scrolled": true
   },
   "source": [
    "### Sequential Removal"
   ]
  },
  {
   "cell_type": "code",
   "execution_count": null,
   "id": "345903ea-f029-49c6-8fce-4ac8e5a2d5ea",
   "metadata": {},
   "outputs": [],
   "source": [
    "#Remove structures from NMR with spaces\n",
    "df.drop(df.loc[df['resolution'] == \"NMR    \"].index, inplace=True)\n",
    "len(df.index)"
   ]
  },
  {
   "cell_type": "code",
   "execution_count": null,
   "id": "2b39a130-71fb-4d36-be43-e88c1709874a",
   "metadata": {},
   "outputs": [],
   "source": [
    "#Remove structures from NMR\n",
    "df.drop(df.loc[df['resolution'] == \"NMR\"].index, inplace=True)\n",
    "len(df.index)"
   ]
  },
  {
   "cell_type": "code",
   "execution_count": null,
   "id": "07a8cdb8-b69e-42a7-989b-72a7f2eb1df9",
   "metadata": {
    "scrolled": true
   },
   "outputs": [],
   "source": [
    "#Remove structures with strange resolutions\n",
    "df.drop(df.loc[df['resolution'] == \"EC\"].index, inplace=True)\n",
    "df.drop(df.loc[df['resolution'] == \"FD\"].index, inplace=True)\n",
    "len(df.index)"
   ]
  },
  {
   "cell_type": "code",
   "execution_count": null,
   "id": "0650547d-952a-4bd3-bed9-8afc21472e84",
   "metadata": {},
   "outputs": [],
   "source": [
    "# Replace strange resolutions entries with text value\n",
    "df['resolution'] = df['resolution'].str.replace(' EM','')\n",
    "df['resolution'] = df['resolution'].str.replace(' EC','')\n",
    "df['resolution'] = df['resolution'].str.replace(' E','')\n",
    "df['resolution'] = df['resolution'].str.replace(' FD','')\n",
    "df['resolution'] = df['resolution'].str.replace(' ND','')\n",
    "len(df.index)"
   ]
  },
  {
   "cell_type": "raw",
   "id": "c67c099e-0683-4513-bb05-d1f2cca1935f",
   "metadata": {},
   "source": [
    "df = df[pd.to_numeric(df['resolution'], errors='coerce').notnull()]\n",
    "len(df.index)"
   ]
  },
  {
   "cell_type": "code",
   "execution_count": null,
   "id": "37164f45-1c2f-497e-979a-a47dc5a06ff8",
   "metadata": {},
   "outputs": [],
   "source": [
    "df.drop(df.loc[df['resolution'] == \"\"].index, inplace=True)\n",
    "len(df.index)"
   ]
  },
  {
   "cell_type": "code",
   "execution_count": null,
   "id": "c7bb9962-6e46-4c14-be8d-d2c4b0789355",
   "metadata": {},
   "outputs": [],
   "source": [
    "df.drop(df.loc[df['resolution'] == '    '].index, inplace=True)\n",
    "len(df.index)"
   ]
  },
  {
   "cell_type": "code",
   "execution_count": null,
   "id": "b3b2a906-48f6-42ff-8c9d-2ef41d433dc8",
   "metadata": {
    "scrolled": true
   },
   "outputs": [],
   "source": [
    "# Remove rows with empy resolutions\n",
    "df.dropna(subset=['resolution'])"
   ]
  },
  {
   "cell_type": "code",
   "execution_count": null,
   "id": "4aa15818-4266-403b-9f08-090e61e1eabc",
   "metadata": {},
   "outputs": [],
   "source": [
    "# Convert the Column from String to Float\n",
    "df['resolution'] = df['resolution'].astype(float)"
   ]
  },
  {
   "cell_type": "code",
   "execution_count": null,
   "id": "9a81a126-7faa-4246-85b1-0ceabd1b6c95",
   "metadata": {},
   "outputs": [],
   "source": [
    "print(df.dtypes)"
   ]
  },
  {
   "cell_type": "code",
   "execution_count": null,
   "id": "badc591c-f464-4cdb-9205-9ab0489850c0",
   "metadata": {
    "scrolled": true
   },
   "outputs": [],
   "source": [
    "#Remove high resolutions\n",
    "df = df[df['resolution'] < 4]\n",
    "len(df.index)"
   ]
  },
  {
   "cell_type": "code",
   "execution_count": null,
   "id": "92f2edc5-93bb-4134-a132-75de235aaa12",
   "metadata": {},
   "outputs": [],
   "source": [
    "#Remove peptides\n",
    "df = df.drop(df[df['type_id'] == 3].index)\n",
    "len(df.index)"
   ]
  },
  {
   "cell_type": "code",
   "execution_count": null,
   "id": "3078f1d2-bd54-476e-abd6-cc302f443dd0",
   "metadata": {},
   "outputs": [],
   "source": [
    "print(df['type_id'].value_counts())"
   ]
  },
  {
   "cell_type": "code",
   "execution_count": null,
   "id": "4201b9e6-5cd2-4ccd-9120-3c11944ffc0e",
   "metadata": {},
   "outputs": [],
   "source": [
    "df['resolution'].agg(['min', 'max'])"
   ]
  },
  {
   "cell_type": "code",
   "execution_count": null,
   "id": "03563b4c-8483-43e1-b7ac-40faedacc6d6",
   "metadata": {},
   "outputs": [],
   "source": [
    "df.to_csv('passive1.csv', sep=',')"
   ]
  },
  {
   "cell_type": "code",
   "execution_count": null,
   "id": "54978d95-6b9b-49c9-b365-016258129a1f",
   "metadata": {},
   "outputs": [],
   "source": []
  },
  {
   "cell_type": "markdown",
   "id": "77605a9e-4894-4da3-b723-d28a66f95db2",
   "metadata": {},
   "source": [
    "### Strict Removal"
   ]
  },
  {
   "cell_type": "code",
   "execution_count": 11,
   "id": "51808aa0-a603-4a81-b055-6da9a4932b20",
   "metadata": {},
   "outputs": [
    {
     "data": {
      "text/plain": [
       "3679"
      ]
     },
     "execution_count": 11,
     "metadata": {},
     "output_type": "execute_result"
    }
   ],
   "source": [
    "# Remove ALL non numeric entries in resolution\n",
    "df = df[pd.to_numeric(df['resolution'], errors='coerce').notnull()]\n",
    "len(df.index)"
   ]
  },
  {
   "cell_type": "code",
   "execution_count": 12,
   "id": "d3da1b7c-8611-4e80-9632-5aa9c5bf946c",
   "metadata": {},
   "outputs": [],
   "source": [
    "# Convert the Resolution Column from String to Float\n",
    "df['resolution'] = df['resolution'].astype(float)"
   ]
  },
  {
   "cell_type": "code",
   "execution_count": 13,
   "id": "a9826306-2461-4f68-b322-0b80a888778a",
   "metadata": {},
   "outputs": [
    {
     "name": "stdout",
     "output_type": "stream",
     "text": [
      "id                                   int64\n",
      "ordering                           float64\n",
      "family_name_cache                   object\n",
      "species_name_cache                  object\n",
      "membrane_name_cache                 object\n",
      "name                                object\n",
      "description                         object\n",
      "comments                            object\n",
      "pdbid                               object\n",
      "resolution                         float64\n",
      "topology_subunit                    object\n",
      "topology_show_in                      bool\n",
      "thickness                          float64\n",
      "thicknesserror                     float64\n",
      "subunit_segments                     int64\n",
      "tilt                                 int64\n",
      "tilterror                          float64\n",
      "gibbs                              float64\n",
      "tau                                float64\n",
      "verification                        object\n",
      "membrane_id                          int64\n",
      "species_id                           int64\n",
      "family_id                            int64\n",
      "superfamily_id                       int64\n",
      "classtype_id                         int64\n",
      "type_id                              int64\n",
      "secondary_representations_count      int64\n",
      "structure_subunits_count             int64\n",
      "citations_count                      int64\n",
      "created_at                          object\n",
      "updated_at                          object\n",
      "uniprotcode                         object\n",
      "interpro                           float64\n",
      "superfamily_name                    object\n",
      "dtype: object\n"
     ]
    }
   ],
   "source": [
    "print(df.dtypes)"
   ]
  },
  {
   "cell_type": "code",
   "execution_count": 14,
   "id": "e481dd16-33d4-4584-be0f-497b2e378a19",
   "metadata": {},
   "outputs": [
    {
     "data": {
      "text/plain": [
       "3580"
      ]
     },
     "execution_count": 14,
     "metadata": {},
     "output_type": "execute_result"
    }
   ],
   "source": [
    "#Remove peptides\n",
    "df = df.drop(df[df['type_id'] == 3].index)\n",
    "len(df.index)"
   ]
  },
  {
   "cell_type": "code",
   "execution_count": 15,
   "id": "2e757b90-83ea-4f9e-80ac-21004c74b7be",
   "metadata": {},
   "outputs": [
    {
     "data": {
      "text/plain": [
       "3502"
      ]
     },
     "execution_count": 15,
     "metadata": {},
     "output_type": "execute_result"
    }
   ],
   "source": [
    "#Remove high resolutions\n",
    "df = df[df['resolution'] < 4]\n",
    "len(df.index)"
   ]
  },
  {
   "cell_type": "code",
   "execution_count": 16,
   "id": "713bb456-5dc5-4e79-ad60-093937308f1b",
   "metadata": {},
   "outputs": [
    {
     "data": {
      "text/plain": [
       "min    0.54\n",
       "max    3.99\n",
       "Name: resolution, dtype: float64"
      ]
     },
     "execution_count": 16,
     "metadata": {},
     "output_type": "execute_result"
    }
   ],
   "source": [
    "df['resolution'].agg(['min', 'max'])"
   ]
  },
  {
   "cell_type": "code",
   "execution_count": 17,
   "id": "d51e61ed-1b61-408b-8f35-3bd733d93ba8",
   "metadata": {},
   "outputs": [
    {
     "name": "stdout",
     "output_type": "stream",
     "text": [
      "type_id\n",
      "1    2279\n",
      "2    1223\n",
      "Name: count, dtype: int64\n"
     ]
    }
   ],
   "source": [
    "print(df['type_id'].value_counts())"
   ]
  },
  {
   "cell_type": "code",
   "execution_count": 18,
   "id": "94df1c1a-9cce-4935-b95a-7c9f4257f6d3",
   "metadata": {},
   "outputs": [],
   "source": [
    "df.to_csv('aggressive1.csv', sep=',')"
   ]
  },
  {
   "cell_type": "code",
   "execution_count": null,
   "id": "63fac8b4-fd72-49d1-8984-55aca1fd02d8",
   "metadata": {},
   "outputs": [],
   "source": []
  },
  {
   "cell_type": "markdown",
   "id": "c24f68b3-f985-46a3-88d4-33a52eaea4e4",
   "metadata": {},
   "source": [
    "### Analyze duplicates"
   ]
  },
  {
   "cell_type": "code",
   "execution_count": 19,
   "id": "4f3e499e-8461-4f9a-88d6-a978f7071116",
   "metadata": {},
   "outputs": [
    {
     "data": {
      "text/plain": [
       "3223"
      ]
     },
     "execution_count": 19,
     "metadata": {},
     "output_type": "execute_result"
    }
   ],
   "source": [
    "# Select resolution entries based on lowest value\n",
    "idxmin = df.groupby(['name'])['resolution'].idxmin()\n",
    "df2 = df.loc[idxmin]\n",
    "len(df2.index)"
   ]
  },
  {
   "cell_type": "code",
   "execution_count": null,
   "id": "9ddab376-d131-4053-bb19-e2c28f18e539",
   "metadata": {},
   "outputs": [],
   "source": []
  },
  {
   "cell_type": "markdown",
   "id": "a248762e-67bd-4498-b43c-deeb27e88719",
   "metadata": {},
   "source": [
    "### Select Superfamilies"
   ]
  },
  {
   "cell_type": "markdown",
   "id": "152175d7",
   "metadata": {},
   "source": [
    "#### Filter based on number of entries"
   ]
  },
  {
   "cell_type": "code",
   "execution_count": 20,
   "id": "3cab05b0-d234-481a-92b6-448d2369931b",
   "metadata": {},
   "outputs": [
    {
     "name": "stdout",
     "output_type": "stream",
     "text": [
      "superfamily_id\n",
      "6      344\n",
      "8      171\n",
      "127    123\n",
      "39     111\n",
      "15      91\n",
      "      ... \n",
      "571      1\n",
      "416      1\n",
      "291      1\n",
      "63       1\n",
      "315      1\n",
      "Name: count, Length: 373, dtype: int64\n"
     ]
    }
   ],
   "source": [
    "# Count total entries of Superfamilies\n",
    "vc = df2['superfamily_id'].value_counts()\n",
    "print(vc)"
   ]
  },
  {
   "cell_type": "code",
   "execution_count": 21,
   "id": "5f2d44cf-9439-4e2b-8f48-ecfbae8f2291",
   "metadata": {
    "scrolled": true
   },
   "outputs": [
    {
     "data": {
      "text/html": [
       "<div>\n",
       "<style scoped>\n",
       "    .dataframe tbody tr th:only-of-type {\n",
       "        vertical-align: middle;\n",
       "    }\n",
       "\n",
       "    .dataframe tbody tr th {\n",
       "        vertical-align: top;\n",
       "    }\n",
       "\n",
       "    .dataframe thead th {\n",
       "        text-align: right;\n",
       "    }\n",
       "</style>\n",
       "<table border=\"1\" class=\"dataframe\">\n",
       "  <thead>\n",
       "    <tr style=\"text-align: right;\">\n",
       "      <th></th>\n",
       "      <th>id</th>\n",
       "      <th>ordering</th>\n",
       "      <th>family_name_cache</th>\n",
       "      <th>species_name_cache</th>\n",
       "      <th>membrane_name_cache</th>\n",
       "      <th>name</th>\n",
       "      <th>description</th>\n",
       "      <th>comments</th>\n",
       "      <th>pdbid</th>\n",
       "      <th>resolution</th>\n",
       "      <th>...</th>\n",
       "      <th>classtype_id</th>\n",
       "      <th>type_id</th>\n",
       "      <th>secondary_representations_count</th>\n",
       "      <th>structure_subunits_count</th>\n",
       "      <th>citations_count</th>\n",
       "      <th>created_at</th>\n",
       "      <th>updated_at</th>\n",
       "      <th>uniprotcode</th>\n",
       "      <th>interpro</th>\n",
       "      <th>superfamily_name</th>\n",
       "    </tr>\n",
       "  </thead>\n",
       "  <tbody>\n",
       "    <tr>\n",
       "      <th>1955</th>\n",
       "      <td>2015</td>\n",
       "      <td>6862.0</td>\n",
       "      <td>Retinal pigment epithelial membrane protein</td>\n",
       "      <td>Bos taurus</td>\n",
       "      <td>Eykaryo. plasma</td>\n",
       "      <td>Retinoid isomerohydrolase, monomer, structure 2</td>\n",
       "      <td>NaN</td>\n",
       "      <td>NaN</td>\n",
       "      <td>4f2z</td>\n",
       "      <td>3.000</td>\n",
       "      <td>...</td>\n",
       "      <td>3</td>\n",
       "      <td>2</td>\n",
       "      <td>0</td>\n",
       "      <td>0</td>\n",
       "      <td>0</td>\n",
       "      <td>2018-08-13 03:53:24 UTC</td>\n",
       "      <td>2020-05-10 22:04:39 UTC</td>\n",
       "      <td>RPE65_BOVIN</td>\n",
       "      <td>NaN</td>\n",
       "      <td>Designed polytopic proteins</td>\n",
       "    </tr>\n",
       "    <tr>\n",
       "      <th>1956</th>\n",
       "      <td>2016</td>\n",
       "      <td>6863.0</td>\n",
       "      <td>Retinal pigment epithelial membrane protein</td>\n",
       "      <td>Bos taurus</td>\n",
       "      <td>Eykaryo. plasma</td>\n",
       "      <td>Retinoid isomerohydrolase, monomer, structure 3</td>\n",
       "      <td>NaN</td>\n",
       "      <td>NaN</td>\n",
       "      <td>4f30</td>\n",
       "      <td>3.150</td>\n",
       "      <td>...</td>\n",
       "      <td>3</td>\n",
       "      <td>2</td>\n",
       "      <td>0</td>\n",
       "      <td>0</td>\n",
       "      <td>0</td>\n",
       "      <td>2018-08-13 03:53:24 UTC</td>\n",
       "      <td>2020-05-10 22:04:39 UTC</td>\n",
       "      <td>RPE65_BOVIN</td>\n",
       "      <td>NaN</td>\n",
       "      <td>Designed polytopic proteins</td>\n",
       "    </tr>\n",
       "    <tr>\n",
       "      <th>1807</th>\n",
       "      <td>1859</td>\n",
       "      <td>7487.0</td>\n",
       "      <td>Glucanosyltransferase</td>\n",
       "      <td>Saccharomyces cerevisiae</td>\n",
       "      <td>Eykaryo. plasma</td>\n",
       "      <td>1,3-beta-glucanosyltransferase, structure 2</td>\n",
       "      <td>NaN</td>\n",
       "      <td>NaN</td>\n",
       "      <td>2w62</td>\n",
       "      <td>1.850</td>\n",
       "      <td>...</td>\n",
       "      <td>5</td>\n",
       "      <td>2</td>\n",
       "      <td>1</td>\n",
       "      <td>0</td>\n",
       "      <td>0</td>\n",
       "      <td>2018-08-13 03:53:04 UTC</td>\n",
       "      <td>2020-05-10 22:04:13 UTC</td>\n",
       "      <td>GAS2_YEAST</td>\n",
       "      <td>NaN</td>\n",
       "      <td>Piezo family</td>\n",
       "    </tr>\n",
       "    <tr>\n",
       "      <th>2938</th>\n",
       "      <td>3012</td>\n",
       "      <td>7488.0</td>\n",
       "      <td>Glucanosyltransferase</td>\n",
       "      <td>Saccharomyces cerevisiae</td>\n",
       "      <td>Eykaryo. plasma</td>\n",
       "      <td>1,3-beta-glucanosyltransferase, structure 3</td>\n",
       "      <td>NaN</td>\n",
       "      <td>NaN</td>\n",
       "      <td>5fih</td>\n",
       "      <td>1.800</td>\n",
       "      <td>...</td>\n",
       "      <td>5</td>\n",
       "      <td>2</td>\n",
       "      <td>0</td>\n",
       "      <td>0</td>\n",
       "      <td>0</td>\n",
       "      <td>2018-08-13 03:54:34 UTC</td>\n",
       "      <td>2020-05-11 00:17:07 UTC</td>\n",
       "      <td>GAS2_YEAST</td>\n",
       "      <td>NaN</td>\n",
       "      <td>Piezo family</td>\n",
       "    </tr>\n",
       "    <tr>\n",
       "      <th>3751</th>\n",
       "      <td>3828</td>\n",
       "      <td>7489.0</td>\n",
       "      <td>Glucanosyltransferase</td>\n",
       "      <td>Saccharomyces cerevisiae</td>\n",
       "      <td>Eykaryo. plasma</td>\n",
       "      <td>1,3-beta-glucanosyltransferase, structure 4</td>\n",
       "      <td>NaN</td>\n",
       "      <td>NaN</td>\n",
       "      <td>5o9o</td>\n",
       "      <td>1.900</td>\n",
       "      <td>...</td>\n",
       "      <td>5</td>\n",
       "      <td>2</td>\n",
       "      <td>7</td>\n",
       "      <td>0</td>\n",
       "      <td>0</td>\n",
       "      <td>2018-08-13 03:55:15 UTC</td>\n",
       "      <td>2020-05-10 22:10:03 UTC</td>\n",
       "      <td>GAS2_YEAST</td>\n",
       "      <td>NaN</td>\n",
       "      <td>Piezo family</td>\n",
       "    </tr>\n",
       "    <tr>\n",
       "      <th>...</th>\n",
       "      <td>...</td>\n",
       "      <td>...</td>\n",
       "      <td>...</td>\n",
       "      <td>...</td>\n",
       "      <td>...</td>\n",
       "      <td>...</td>\n",
       "      <td>...</td>\n",
       "      <td>...</td>\n",
       "      <td>...</td>\n",
       "      <td>...</td>\n",
       "      <td>...</td>\n",
       "      <td>...</td>\n",
       "      <td>...</td>\n",
       "      <td>...</td>\n",
       "      <td>...</td>\n",
       "      <td>...</td>\n",
       "      <td>...</td>\n",
       "      <td>...</td>\n",
       "      <td>...</td>\n",
       "      <td>...</td>\n",
       "      <td>...</td>\n",
       "    </tr>\n",
       "    <tr>\n",
       "      <th>2208</th>\n",
       "      <td>2270</td>\n",
       "      <td>7465.0</td>\n",
       "      <td>Mannose-binding lectin</td>\n",
       "      <td>Homo sapiens</td>\n",
       "      <td>Secreted</td>\n",
       "      <td>Zymogen granule membrane protein 16</td>\n",
       "      <td>NaN</td>\n",
       "      <td>NaN</td>\n",
       "      <td>3vy7</td>\n",
       "      <td>2.140</td>\n",
       "      <td>...</td>\n",
       "      <td>3</td>\n",
       "      <td>2</td>\n",
       "      <td>5</td>\n",
       "      <td>0</td>\n",
       "      <td>0</td>\n",
       "      <td>2018-08-13 03:53:48 UTC</td>\n",
       "      <td>2020-05-11 00:16:38 UTC</td>\n",
       "      <td>ZG16_HUMAN</td>\n",
       "      <td>NaN</td>\n",
       "      <td>Phosphotyrosine protein phosphatases II</td>\n",
       "    </tr>\n",
       "    <tr>\n",
       "      <th>675</th>\n",
       "      <td>681</td>\n",
       "      <td>7355.0</td>\n",
       "      <td>Snake venom toxins</td>\n",
       "      <td>Naja kaouthia</td>\n",
       "      <td>Secreted</td>\n",
       "      <td>alpha-Cobratoxin</td>\n",
       "      <td>NaN</td>\n",
       "      <td>NaN</td>\n",
       "      <td>1ctx</td>\n",
       "      <td>2.800</td>\n",
       "      <td>...</td>\n",
       "      <td>3</td>\n",
       "      <td>2</td>\n",
       "      <td>4</td>\n",
       "      <td>0</td>\n",
       "      <td>0</td>\n",
       "      <td>2018-08-13 03:50:41 UTC</td>\n",
       "      <td>2020-05-13 20:44:01 UTC</td>\n",
       "      <td>3L21_NAJKA</td>\n",
       "      <td>NaN</td>\n",
       "      <td>ClpP/Crotonase, transmembrane</td>\n",
       "    </tr>\n",
       "    <tr>\n",
       "      <th>513</th>\n",
       "      <td>517</td>\n",
       "      <td>7937.0</td>\n",
       "      <td>Plant thionin</td>\n",
       "      <td>Triticum aestivum</td>\n",
       "      <td>Secreted</td>\n",
       "      <td>beta-Purothionin</td>\n",
       "      <td>NaN</td>\n",
       "      <td>NaN</td>\n",
       "      <td>1bhp</td>\n",
       "      <td>1.700</td>\n",
       "      <td>...</td>\n",
       "      <td>6</td>\n",
       "      <td>2</td>\n",
       "      <td>0</td>\n",
       "      <td>0</td>\n",
       "      <td>0</td>\n",
       "      <td>2018-08-13 03:50:22 UTC</td>\n",
       "      <td>2020-05-10 21:59:50 UTC</td>\n",
       "      <td>THNB_WHEAT</td>\n",
       "      <td>NaN</td>\n",
       "      <td>KX blood-group antigen family</td>\n",
       "    </tr>\n",
       "    <tr>\n",
       "      <th>7090</th>\n",
       "      <td>8508</td>\n",
       "      <td>248.0</td>\n",
       "      <td>G-protein coupled receptors, family A</td>\n",
       "      <td>Homo sapiens</td>\n",
       "      <td>Eykaryo. plasma</td>\n",
       "      <td>cannabinoid receptor type 1(CB1)</td>\n",
       "      <td>NaN</td>\n",
       "      <td>NaN</td>\n",
       "      <td>7v3z</td>\n",
       "      <td>3.290</td>\n",
       "      <td>...</td>\n",
       "      <td>1</td>\n",
       "      <td>1</td>\n",
       "      <td>0</td>\n",
       "      <td>1</td>\n",
       "      <td>0</td>\n",
       "      <td>2023-02-18 04:51:41 UTC</td>\n",
       "      <td>2023-02-22 22:07:21 UTC</td>\n",
       "      <td>CNR1_HUMAN FLAV_DESVH</td>\n",
       "      <td>NaN</td>\n",
       "      <td>Electron transport chain complex IV (cytochrom...</td>\n",
       "    </tr>\n",
       "    <tr>\n",
       "      <th>5721</th>\n",
       "      <td>6307</td>\n",
       "      <td>4741.0</td>\n",
       "      <td>ER lumen protein retaining receptor</td>\n",
       "      <td>Gallus gallus</td>\n",
       "      <td>Endoplasm. reticulum</td>\n",
       "      <td>the KDEL receptor bound to HDEL peptide at pH 6.0</td>\n",
       "      <td>NaN</td>\n",
       "      <td>NaN</td>\n",
       "      <td>6y7v</td>\n",
       "      <td>2.241</td>\n",
       "      <td>...</td>\n",
       "      <td>1</td>\n",
       "      <td>1</td>\n",
       "      <td>0</td>\n",
       "      <td>1</td>\n",
       "      <td>0</td>\n",
       "      <td>2021-05-25 04:00:45 UTC</td>\n",
       "      <td>2021-10-15 16:31:42 UTC</td>\n",
       "      <td>ERD22_CHICK</td>\n",
       "      <td>NaN</td>\n",
       "      <td>Aspartate/ornithine carbamoyltransferase</td>\n",
       "    </tr>\n",
       "  </tbody>\n",
       "</table>\n",
       "<p>2850 rows × 34 columns</p>\n",
       "</div>"
      ],
      "text/plain": [
       "        id  ordering                            family_name_cache  \\\n",
       "1955  2015    6862.0  Retinal pigment epithelial membrane protein   \n",
       "1956  2016    6863.0  Retinal pigment epithelial membrane protein   \n",
       "1807  1859    7487.0                        Glucanosyltransferase   \n",
       "2938  3012    7488.0                        Glucanosyltransferase   \n",
       "3751  3828    7489.0                        Glucanosyltransferase   \n",
       "...    ...       ...                                          ...   \n",
       "2208  2270    7465.0                       Mannose-binding lectin   \n",
       "675    681    7355.0                           Snake venom toxins   \n",
       "513    517    7937.0                                Plant thionin   \n",
       "7090  8508     248.0        G-protein coupled receptors, family A   \n",
       "5721  6307    4741.0          ER lumen protein retaining receptor   \n",
       "\n",
       "            species_name_cache   membrane_name_cache  \\\n",
       "1955                Bos taurus       Eykaryo. plasma   \n",
       "1956                Bos taurus       Eykaryo. plasma   \n",
       "1807  Saccharomyces cerevisiae       Eykaryo. plasma   \n",
       "2938  Saccharomyces cerevisiae       Eykaryo. plasma   \n",
       "3751  Saccharomyces cerevisiae       Eykaryo. plasma   \n",
       "...                        ...                   ...   \n",
       "2208              Homo sapiens              Secreted   \n",
       "675              Naja kaouthia              Secreted   \n",
       "513          Triticum aestivum              Secreted   \n",
       "7090              Homo sapiens       Eykaryo. plasma   \n",
       "5721             Gallus gallus  Endoplasm. reticulum   \n",
       "\n",
       "                                                   name description comments  \\\n",
       "1955    Retinoid isomerohydrolase, monomer, structure 2         NaN      NaN   \n",
       "1956    Retinoid isomerohydrolase, monomer, structure 3         NaN      NaN   \n",
       "1807        1,3-beta-glucanosyltransferase, structure 2         NaN      NaN   \n",
       "2938        1,3-beta-glucanosyltransferase, structure 3         NaN      NaN   \n",
       "3751        1,3-beta-glucanosyltransferase, structure 4         NaN      NaN   \n",
       "...                                                 ...         ...      ...   \n",
       "2208                Zymogen granule membrane protein 16         NaN      NaN   \n",
       "675                                    alpha-Cobratoxin         NaN      NaN   \n",
       "513                                    beta-Purothionin         NaN      NaN   \n",
       "7090                   cannabinoid receptor type 1(CB1)         NaN      NaN   \n",
       "5721  the KDEL receptor bound to HDEL peptide at pH 6.0         NaN      NaN   \n",
       "\n",
       "     pdbid  resolution  ... classtype_id  type_id  \\\n",
       "1955  4f2z       3.000  ...            3        2   \n",
       "1956  4f30       3.150  ...            3        2   \n",
       "1807  2w62       1.850  ...            5        2   \n",
       "2938  5fih       1.800  ...            5        2   \n",
       "3751  5o9o       1.900  ...            5        2   \n",
       "...    ...         ...  ...          ...      ...   \n",
       "2208  3vy7       2.140  ...            3        2   \n",
       "675   1ctx       2.800  ...            3        2   \n",
       "513   1bhp       1.700  ...            6        2   \n",
       "7090  7v3z       3.290  ...            1        1   \n",
       "5721  6y7v       2.241  ...            1        1   \n",
       "\n",
       "      secondary_representations_count  structure_subunits_count  \\\n",
       "1955                                0                         0   \n",
       "1956                                0                         0   \n",
       "1807                                1                         0   \n",
       "2938                                0                         0   \n",
       "3751                                7                         0   \n",
       "...                               ...                       ...   \n",
       "2208                                5                         0   \n",
       "675                                 4                         0   \n",
       "513                                 0                         0   \n",
       "7090                                0                         1   \n",
       "5721                                0                         1   \n",
       "\n",
       "      citations_count               created_at               updated_at  \\\n",
       "1955                0  2018-08-13 03:53:24 UTC  2020-05-10 22:04:39 UTC   \n",
       "1956                0  2018-08-13 03:53:24 UTC  2020-05-10 22:04:39 UTC   \n",
       "1807                0  2018-08-13 03:53:04 UTC  2020-05-10 22:04:13 UTC   \n",
       "2938                0  2018-08-13 03:54:34 UTC  2020-05-11 00:17:07 UTC   \n",
       "3751                0  2018-08-13 03:55:15 UTC  2020-05-10 22:10:03 UTC   \n",
       "...               ...                      ...                      ...   \n",
       "2208                0  2018-08-13 03:53:48 UTC  2020-05-11 00:16:38 UTC   \n",
       "675                 0  2018-08-13 03:50:41 UTC  2020-05-13 20:44:01 UTC   \n",
       "513                 0  2018-08-13 03:50:22 UTC  2020-05-10 21:59:50 UTC   \n",
       "7090                0  2023-02-18 04:51:41 UTC  2023-02-22 22:07:21 UTC   \n",
       "5721                0  2021-05-25 04:00:45 UTC  2021-10-15 16:31:42 UTC   \n",
       "\n",
       "                uniprotcode  interpro  \\\n",
       "1955            RPE65_BOVIN       NaN   \n",
       "1956            RPE65_BOVIN       NaN   \n",
       "1807             GAS2_YEAST       NaN   \n",
       "2938             GAS2_YEAST       NaN   \n",
       "3751             GAS2_YEAST       NaN   \n",
       "...                     ...       ...   \n",
       "2208             ZG16_HUMAN       NaN   \n",
       "675              3L21_NAJKA       NaN   \n",
       "513              THNB_WHEAT       NaN   \n",
       "7090  CNR1_HUMAN FLAV_DESVH       NaN   \n",
       "5721            ERD22_CHICK       NaN   \n",
       "\n",
       "                                       superfamily_name  \n",
       "1955                        Designed polytopic proteins  \n",
       "1956                        Designed polytopic proteins  \n",
       "1807                                       Piezo family  \n",
       "2938                                       Piezo family  \n",
       "3751                                       Piezo family  \n",
       "...                                                 ...  \n",
       "2208            Phosphotyrosine protein phosphatases II  \n",
       "675                       ClpP/Crotonase, transmembrane  \n",
       "513                       KX blood-group antigen family  \n",
       "7090  Electron transport chain complex IV (cytochrom...  \n",
       "5721           Aspartate/ornithine carbamoyltransferase  \n",
       "\n",
       "[2850 rows x 34 columns]"
      ]
     },
     "execution_count": 21,
     "metadata": {},
     "output_type": "execute_result"
    }
   ],
   "source": [
    "df2[df2.duplicated(['superfamily_id'])]"
   ]
  },
  {
   "cell_type": "code",
   "execution_count": 22,
   "id": "bf80a4dc-f156-401a-83f9-675bc484283b",
   "metadata": {},
   "outputs": [],
   "source": [
    "# Count total entries of Families\n",
    "vc = df2['family_name_cache'].value_counts()\n",
    "#print(vc)"
   ]
  },
  {
   "cell_type": "code",
   "execution_count": 23,
   "id": "3d6294c8-e037-4ddf-9059-4e968a7f4511",
   "metadata": {},
   "outputs": [],
   "source": [
    "vc.reset_index()\n",
    "vc.to_csv('famnamecount.csv', sep=',')"
   ]
  },
  {
   "cell_type": "code",
   "execution_count": 24,
   "id": "68df7357-9481-4077-9679-c20e7b6be5fb",
   "metadata": {},
   "outputs": [
    {
     "data": {
      "text/plain": [
       "2594"
      ]
     },
     "execution_count": 24,
     "metadata": {},
     "output_type": "execute_result"
    }
   ],
   "source": [
    "# Filter entries on number of members in superfam\n",
    "df2['superfamily_name'].value_counts().loc[lambda x : x >= 7].sum()"
   ]
  },
  {
   "cell_type": "code",
   "execution_count": 25,
   "id": "2068be68-b361-4c8b-9915-69a629e804a7",
   "metadata": {},
   "outputs": [],
   "source": [
    "selectd = df2['superfamily_name'].value_counts().loc[lambda x : x >= 7]"
   ]
  },
  {
   "cell_type": "code",
   "execution_count": 26,
   "id": "59e7728d-9d02-422d-9d42-9167f94d9c5c",
   "metadata": {},
   "outputs": [
    {
     "data": {
      "text/plain": [
       "2628"
      ]
     },
     "execution_count": 26,
     "metadata": {},
     "output_type": "execute_result"
    }
   ],
   "source": [
    "df2['superfamily_id'].value_counts().loc[lambda x : x >= 7].sum()"
   ]
  },
  {
   "cell_type": "code",
   "execution_count": 27,
   "id": "e825dca1-d4f2-46fa-a569-a57d7b0a6d1c",
   "metadata": {
    "scrolled": true
   },
   "outputs": [],
   "source": [
    "dump = df2['superfamily_id'].value_counts().loc[lambda x : x < 7 ].reset_index()\n",
    "drop_list = dump['superfamily_id'].tolist()\n",
    "df3 = df2[~df2['superfamily_id'].isin(drop_list)]"
   ]
  },
  {
   "cell_type": "code",
   "execution_count": 28,
   "id": "9334c126-993b-4656-9d8e-a857ff56b2ae",
   "metadata": {
    "scrolled": true
   },
   "outputs": [
    {
     "data": {
      "text/plain": [
       "2628"
      ]
     },
     "execution_count": 28,
     "metadata": {},
     "output_type": "execute_result"
    }
   ],
   "source": [
    "len(df3.index)"
   ]
  },
  {
   "cell_type": "code",
   "execution_count": 29,
   "id": "55600659-1bbc-426f-aa91-c2d34f6b3213",
   "metadata": {},
   "outputs": [],
   "source": [
    "df3.to_csv('selectd.csv', sep=',')"
   ]
  },
  {
   "cell_type": "code",
   "execution_count": 30,
   "id": "a3b27c13-7d40-4096-8967-fc58ff879a27",
   "metadata": {},
   "outputs": [],
   "source": [
    "df3['pdbid'].to_csv('pdbid', sep=' ', index=False, header=False)"
   ]
  },
  {
   "cell_type": "code",
   "execution_count": null,
   "id": "be981706-a6dd-4260-9ada-59f8446aeeac",
   "metadata": {},
   "outputs": [],
   "source": []
  },
  {
   "cell_type": "markdown",
   "id": "d467d6cb",
   "metadata": {},
   "source": [
    "#### Filter most drugged superfamily | Remove problematic structures"
   ]
  },
  {
   "cell_type": "code",
   "execution_count": 31,
   "id": "dad66d1b-24ca-4d2a-b5d4-2258fa061dc6",
   "metadata": {},
   "outputs": [],
   "source": [
    "df3 = df2[df2['family_name_cache'].str.contains('|'.join(['G-protein', 'GPCR', 'channel', 'gated', \n",
    "                                                    'kinase', 'transporter', 'ATP', 'lipase', \n",
    "                                                    'cyclase', 'Annexins', 'Apolipoprotein', \n",
    "                                                    'transfer', 'domain']))]"
   ]
  },
  {
   "cell_type": "code",
   "execution_count": 32,
   "id": "e897c88d",
   "metadata": {},
   "outputs": [
    {
     "data": {
      "text/plain": [
       "family_name_cache\n",
       "G-protein coupled receptors, family A               240\n",
       "Cytochrome P450                                     111\n",
       "P-ATPase                                             70\n",
       "Microbial and algal rhodopsins                       67\n",
       "Vertebrate secretory phospholipase A2                56\n",
       "Outer Membrane Receptor (OMR)                        54\n",
       "C2 domain                                            48\n",
       "General Bacterial Porin (GBP)                        42\n",
       "Cytochrome bc1 and b6f complexes                     38\n",
       "Two pore Na+ channels                                34\n",
       "Lipid exporter family                                34\n",
       "Fatty acid binding protein-like (n=10)               34\n",
       "Pleckstrin-homology domain                           33\n",
       "Voltage-gated calcium and sodium channels            30\n",
       "Neurotransmitter: sodium symporter                   28\n",
       "Prokaryotic pentameric ligand-gated ion channels     28\n",
       "Major intrinsic protein (MIP) family                 26\n",
       "KcsA voltage-gated K+ channels                       24\n",
       "Proton-dependent oligopeptide transporter (POT)      23\n",
       "Flavivirus glycoprotein                              22\n",
       "PX domain                                            22\n",
       "Outer membrane porin (Opr)                           22\n",
       "Multi antimicrobial extrusion (MATE) family          22\n",
       "STAR domain                                          22\n",
       "Proton glutamate symport protein                     21\n",
       "OMP insertion (Bam complex) porin (n=16,S=22)        21\n",
       "Snake venom toxins                                   20\n",
       "Aerolysin (n=14,S=14 or n=16,S=16)                   20\n",
       "Name: count, dtype: int64"
      ]
     },
     "execution_count": 32,
     "metadata": {},
     "output_type": "execute_result"
    }
   ],
   "source": [
    "df2['family_name_cache'].value_counts().loc[lambda x : x >= 20]"
   ]
  },
  {
   "cell_type": "code",
   "execution_count": 33,
   "id": "e66226cc-e2a4-4104-b732-cf4d18c36d8c",
   "metadata": {},
   "outputs": [],
   "source": [
    "df3.to_csv('selectd.csv', sep=',')"
   ]
  },
  {
   "cell_type": "code",
   "execution_count": 34,
   "id": "e11716ed-d7be-4335-a763-38f1a4c98a47",
   "metadata": {},
   "outputs": [],
   "source": [
    "df3['pdbid'].to_csv('pdbid', sep=' ', index=False, header=False)"
   ]
  },
  {
   "cell_type": "code",
   "execution_count": 35,
   "id": "29c1c911",
   "metadata": {},
   "outputs": [
    {
     "data": {
      "text/plain": [
       "1422"
      ]
     },
     "execution_count": 35,
     "metadata": {},
     "output_type": "execute_result"
    }
   ],
   "source": [
    "# Should get 1422 entries\n",
    "len(df3.index)"
   ]
  },
  {
   "cell_type": "code",
   "execution_count": null,
   "id": "e5d9eb41",
   "metadata": {},
   "outputs": [],
   "source": []
  },
  {
   "cell_type": "markdown",
   "id": "37b4554c",
   "metadata": {},
   "source": [
    "### Separate TM and Peripheral"
   ]
  },
  {
   "cell_type": "code",
   "execution_count": 36,
   "id": "85cbe572",
   "metadata": {},
   "outputs": [],
   "source": [
    "# Remove probelmatic structures\n",
    "df_rescount=pd.read_csv(\"rescount.csv\", sep=',', engine='python', names = [\"pdbid\", \"res_count\"])\n",
    "df4 = pd.merge(df3, df_rescount, how='inner', on='pdbid')\n",
    "df4['pdbid'].to_csv('pdbid', sep=' ', index=False, header=False)\n",
    "# Separate TM & peripheral\n",
    "df_per = df4.drop(df4[df4['type_id'] == 1].index)\n",
    "df_tm = df4.drop(df4[df4['type_id'] == 2].index)\n",
    "# Save all transmembrane to CSV\n",
    "df_tm['pdbid'].to_csv('pdbid_tm', sep=' ', index=False, header=False)\n",
    "# Save all peripheral to CSV\n",
    "df_per['pdbid'].to_csv('pdbid_per', sep=' ', index=False, header=False)"
   ]
  },
  {
   "cell_type": "markdown",
   "id": "4eea4be4",
   "metadata": {},
   "source": [
    "#### Filter proteins with < 400 res "
   ]
  },
  {
   "cell_type": "code",
   "execution_count": 38,
   "id": "0da9ed9d-1a16-4750-adcf-70b93826fcb2",
   "metadata": {},
   "outputs": [],
   "source": [
    "# Protein less than 400 residues\n",
    "df5 = df4.drop(df4[df4['res_count'] > 400].index)\n",
    "# Separate TM & peripheral\n",
    "df_per = df5.drop(df5[df5['type_id'] == 1].index)\n",
    "df_tm = df5.drop(df5[df5['type_id'] == 2].index)\n",
    "# Randomly sample elements from the dataframe\n",
    "df_tm32 = df_tm.sample(n=6)\n",
    "df_per32 = df_per.sample(n=6)\n",
    "# Save to CSV\n",
    "df_tm32['pdbid'].to_csv('pdbid_tm6', sep=' ', index=False, header=False)\n",
    "df_per32['pdbid'].to_csv('pdbid_per6', sep=' ', index=False, header=False)"
   ]
  },
  {
   "cell_type": "code",
   "execution_count": 51,
   "id": "c58ad013-4d66-4492-be84-700151e5a1d1",
   "metadata": {},
   "outputs": [],
   "source": []
  },
  {
   "cell_type": "markdown",
   "id": "032e42d2-3307-414a-b853-947017353393",
   "metadata": {},
   "source": [
    "## Testing"
   ]
  },
  {
   "cell_type": "code",
   "execution_count": null,
   "id": "04fcb590-f02b-420e-a92b-160c17462e2d",
   "metadata": {},
   "outputs": [],
   "source": [
    "removd = df2['superfamily_name'].value_counts().loc[lambda x : x < 34]"
   ]
  },
  {
   "cell_type": "code",
   "execution_count": null,
   "id": "b74d9093-f77b-4b66-8897-26fd36cb2cb6",
   "metadata": {},
   "outputs": [],
   "source": [
    "print(removd)"
   ]
  },
  {
   "cell_type": "code",
   "execution_count": null,
   "id": "9dd395b4-1854-44d6-97f8-d5cbac6c965d",
   "metadata": {},
   "outputs": [],
   "source": [
    "removd.to_csv('removed.csv', sep=',')"
   ]
  },
  {
   "cell_type": "code",
   "execution_count": null,
   "id": "5d463102-aaf5-403e-a1f3-266934895fcf",
   "metadata": {},
   "outputs": [],
   "source": [
    "selectd = df2['superfamily_name'].value_counts().loc[lambda x : x >= 34]"
   ]
  },
  {
   "cell_type": "code",
   "execution_count": null,
   "id": "ad747a80-1f02-43d2-95b4-10e21f3660a9",
   "metadata": {},
   "outputs": [],
   "source": [
    "df2['family_name_cache'].value_counts().loc[lambda x : x >= 13]"
   ]
  },
  {
   "cell_type": "code",
   "execution_count": null,
   "id": "24ad2bb1-8587-4074-9189-5168cd49cae7",
   "metadata": {},
   "outputs": [],
   "source": [
    "test = df2['family_name_cache'].value_counts().loc[lambda x : x < 13]"
   ]
  },
  {
   "cell_type": "code",
   "execution_count": null,
   "id": "1db53706-3d8a-4ea3-a7b2-bc3b14087e1d",
   "metadata": {},
   "outputs": [],
   "source": [
    "os.chdir(\"/Users/chuck/Downloads\")\n",
    "test.to_csv('test1.csv', sep=',')"
   ]
  },
  {
   "cell_type": "code",
   "execution_count": null,
   "id": "2fa062b7-bfb5-4b58-92d3-7691bc356273",
   "metadata": {},
   "outputs": [],
   "source": [
    "ff = df2.value_counts().rename_axis('superfamily_id').to_frame('counts')"
   ]
  },
  {
   "cell_type": "code",
   "execution_count": null,
   "id": "18667372-2d42-495f-a33f-e1698aef96bd",
   "metadata": {},
   "outputs": [],
   "source": [
    "df['pdbid'].replace('=','', regex=True, inplace=True)\n",
    "df['pdbid'] = df['pdbid'].str.replace('\"','')"
   ]
  },
  {
   "cell_type": "code",
   "execution_count": null,
   "id": "9d141513-757c-427f-883d-be7ae22aab23",
   "metadata": {},
   "outputs": [],
   "source": [
    "df3.replace('\\\"', '', regex = True, inplace = True)"
   ]
  },
  {
   "cell_type": "code",
   "execution_count": null,
   "id": "f4975dc8-21b4-402c-9d10-6da3d8a7f767",
   "metadata": {},
   "outputs": [],
   "source": []
  },
  {
   "cell_type": "code",
   "execution_count": null,
   "id": "e599242a",
   "metadata": {},
   "outputs": [],
   "source": [
    "df_probs=pd.read_csv(\"problems\", sep=',', engine='python', names = [\"pdbid\"])"
   ]
  },
  {
   "cell_type": "code",
   "execution_count": null,
   "id": "100bfad3-c6cf-4678-8c66-0e978f73473b",
   "metadata": {},
   "outputs": [],
   "source": [
    "df_rescount=pd.read_csv(\"rescount.csv\", sep=',', engine='python', names = [\"pdbid\", \"res_count\"])"
   ]
  },
  {
   "cell_type": "code",
   "execution_count": null,
   "id": "faf66acf",
   "metadata": {},
   "outputs": [],
   "source": [
    "tdf = pd.merge(df3, df_probs, how='outer', indicator=True)"
   ]
  },
  {
   "cell_type": "code",
   "execution_count": null,
   "id": "a158c086",
   "metadata": {},
   "outputs": [],
   "source": [
    "#tdf\n",
    "len(tdf.index)"
   ]
  },
  {
   "cell_type": "code",
   "execution_count": null,
   "id": "77e503bd",
   "metadata": {},
   "outputs": [],
   "source": [
    "print(tdf.loc[tdf._merge == 'left_only', ['pdbid']])"
   ]
  },
  {
   "cell_type": "code",
   "execution_count": null,
   "id": "5a067992",
   "metadata": {},
   "outputs": [],
   "source": [
    "df6 = pd.merge(df3, df_rescount, how='inner', on='pdbid')"
   ]
  },
  {
   "cell_type": "code",
   "execution_count": null,
   "id": "be109ba2",
   "metadata": {},
   "outputs": [],
   "source": [
    "df6"
   ]
  },
  {
   "cell_type": "code",
   "execution_count": null,
   "id": "9137cd98",
   "metadata": {},
   "outputs": [],
   "source": [
    "len(df6.index)"
   ]
  },
  {
   "cell_type": "code",
   "execution_count": null,
   "id": "2a22e170",
   "metadata": {},
   "outputs": [],
   "source": [
    "df3"
   ]
  },
  {
   "cell_type": "code",
   "execution_count": null,
   "id": "4cf681f6",
   "metadata": {},
   "outputs": [],
   "source": []
  }
 ],
 "metadata": {
  "kernelspec": {
   "display_name": "Python 3 (ipykernel)",
   "language": "python",
   "name": "python3"
  },
  "language_info": {
   "codemirror_mode": {
    "name": "ipython",
    "version": 3
   },
   "file_extension": ".py",
   "mimetype": "text/x-python",
   "name": "python",
   "nbconvert_exporter": "python",
   "pygments_lexer": "ipython3",
   "version": "3.11.10"
  }
 },
 "nbformat": 4,
 "nbformat_minor": 5
}
