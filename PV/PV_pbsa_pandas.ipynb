{
 "cells": [
  {
   "cell_type": "code",
   "execution_count": 1,
   "metadata": {},
   "outputs": [],
   "source": [
    "import pandas as pd\n",
    "import numpy as np"
   ]
  },
  {
   "cell_type": "code",
   "execution_count": 31,
   "metadata": {
    "scrolled": true
   },
   "outputs": [
    {
     "name": "stdout",
     "output_type": "stream",
     "text": [
      "apv_1RWY_Ca: items: ['VDWAAL', 'ELE', 'EPB', 'ECAVITY', 'EDISPER']\n",
      "apv_1RWY_Mg: items: ['VDWAAL', 'ELE', 'EPB', 'ECAVITY', 'EDISPER']\n",
      "apv_1RWY_apo: items: ['VDWAAL', 'ELE', 'EPB', 'ECAVITY', 'EDISPER']\n",
      "apv_1S3P_Ca: items: ['VDWAAL', 'ELE', 'EPB', 'ECAVITY', 'EDISPER']\n",
      "apv_1S3P_Mg: items: ['VDWAAL', 'ELE', 'EPB', 'ECAVITY', 'EDISPER']\n",
      "apv_1S3P_apo: items: ['VDWAAL', 'ELE', 'EPB', 'ECAVITY', 'EDISPER']\n",
      "apv_1XVJ_Ca: items: ['VDWAAL', 'ELE', 'EPB', 'ECAVITY', 'EDISPER']\n",
      "apv_1XVJ_Mg: items: ['VDWAAL', 'ELE', 'EPB', 'ECAVITY', 'EDISPER']\n",
      "apv_1XVJ_apo: items: ['VDWAAL', 'ELE', 'EPB', 'ECAVITY', 'EDISPER']\n",
      "bpv_1G33_Ca: items: ['VDWAAL', 'ELE', 'EPB', 'ECAVITY', 'EDISPER']\n",
      "bpv_1G33_Mg: items: ['VDWAAL', 'ELE', 'EPB', 'ECAVITY', 'EDISPER']\n",
      "bpv_1G33_apo: items: ['VDWAAL', 'ELE', 'EPB', 'ECAVITY', 'EDISPER']\n",
      "bpv_1RRO_Ca: items: ['VDWAAL', 'ELE', 'EPB', 'ECAVITY', 'EDISPER']\n",
      "bpv_1RRO_Mg: items: ['VDWAAL', 'ELE', 'EPB', 'ECAVITY', 'EDISPER']\n",
      "bpv_1RRO_apo: items: ['VDWAAL', 'ELE', 'EPB', 'ECAVITY', 'EDISPER']\n"
     ]
    }
   ],
   "source": [
    "path = \"/net/share/cad234/projects/pv/\"\n",
    "components = [\"complex\",\"receptor\",\"ligand\"]\n",
    "cases=[\"apv_1RWY_Ca\",\"apv_1RWY_Mg\",\"apv_1RWY_apo\",\"apv_1S3P_Ca\",\"apv_1S3P_Mg\",\\\n",
    "       \"apv_1S3P_apo\",\"apv_1XVJ_Ca\",\"apv_1XVJ_Mg\",\"apv_1XVJ_apo\",\"bpv_1G33_Ca\",\\\n",
    "       \"bpv_1G33_Mg\",\"bpv_1G33_apo\",\"bpv_1RRO_Ca\",\"bpv_1RRO_Mg\",\"bpv_1RRO_apo\"]\n",
    "case=[\"1RWY_Ca\",\"1RWY_Mg\",\"1RWY_apo\",\"1S3P_Ca\",\"1S3P_Mg\",\"1S3P_apo\",\"1XVJ_Ca\",\\\n",
    "      \"1XVJ_Mg\",\"1XVJ_apo\",\"1G33_Ca\",\"1G33_Mg\",\"1G33_apo\",\"1RRO_Ca\",\"1RRO_Mg\",\\\n",
    "      \"1RRO_apo\"]\n",
    "\n",
    "for i in (0,1,3,4,6,7,9,10,12,13):\n",
    "    case[i] = dict()\n",
    "\n",
    "    for component in components:\n",
    "        #print component\n",
    "        df = pd.read_table(path+cases[i]+\"/pbsa/energies_%s_prod1.dat\"\\\n",
    "                           %component,sep=\"\\s+\",header=0)\n",
    "        df = df.drop(columns=['BOND','ANGLE','DIHED','1-4VDW','1-4ELE','RESTR'])\n",
    "        #df = df.drop(columns=['ELE'])\n",
    "        case[i][component] = df\n",
    "\n",
    "for i in (2,5,8,11,14):\n",
    "    case[i] = dict()\n",
    "    df = pd.read_table(path+cases[i]+\"/pbsa/energies_receptor_prod1.dat\",\\\n",
    "                       sep=\"\\s+\",header=0)\n",
    "    df = df.drop(columns=['BOND','ANGLE','DIHED','1-4VDW','1-4ELE','RESTR'])\n",
    "    #df = df.drop(columns=['ELE'])\n",
    "    case[i][\"receptor\"] = df\n",
    "\n",
    "for i in np.arange(15):\n",
    "    print cases[i]+\":\",\"items:\",list(df)\n",
    "    allcols = list(df)"
   ]
  },
  {
   "cell_type": "markdown",
   "metadata": {},
   "source": [
    "### Full MMPBSA\n",
    "\n",
    "Calculating the following equation: $\\Delta G \\equiv G_c - (G_l + G_r)$"
   ]
  },
  {
   "cell_type": "markdown",
   "metadata": {},
   "source": [
    "#### All contributions"
   ]
  },
  {
   "cell_type": "code",
   "execution_count": 39,
   "metadata": {
    "scrolled": true
   },
   "outputs": [
    {
     "name": "stdout",
     "output_type": "stream",
     "text": [
      "dG apv_1RWY_Ca: -93.32834722499865\n",
      "dG apv_1S3P_Ca: -111.30082499999844\n",
      "dG apv_1XVJ_Ca: -76.37193750000188\n",
      "dG bpv_1G33_Ca: -93.240768749999\n",
      "dG bpv_1RRO_Ca: -77.00322375000178\n",
      "\n",
      "dG apv_1RWY_Mg: -28.980094999998983\n",
      "dG apv_1S3P_Mg: -19.135572500001217\n",
      "dG apv_1XVJ_Mg: -20.295380000001387\n",
      "dG bpv_1G33_Mg: -37.750986250000096\n",
      "dG bpv_1RRO_Mg: -1.2456582278464339\n",
      "\n",
      "ddG for apv_1RWY: -64.34825222499967\n",
      "ddG for apv_1S3P: -92.16525249999722\n",
      "ddG for apv_1XVJ: -56.07655750000049\n",
      "ddG for bpv_1G33: -55.48978249999891\n",
      "ddG for bpv_1G33: -75.75756552215535\n"
     ]
    }
   ],
   "source": [
    "dg=()\n",
    "names=[\"apv_1RWY\",\"apv_1S3P\",\"apv_1XVJ\",\"bpv_1G33\",\"bpv_1G33\",\"bpv_1RRO\",]\n",
    "term = \"all\"\n",
    "# sum up valence terms\n",
    "for i in (0,3,6,9,12):\n",
    "    for key, df in case[i].iteritems():\n",
    "        df[term] = df[allcols].sum(axis=1)\n",
    "    Gcomplex = case[i][\"complex\"][term].mean()\n",
    "    Glig = case[i][\"ligand\"][term].mean()\n",
    "    Greceptor = case[i][\"receptor\"][term].mean()\n",
    "    dG = (Greceptor + Glig) - Gcomplex\n",
    "    print \"dG\",cases[i]+\":\", dG\n",
    "    dg=np.append(dg,dG)\n",
    "print ''\n",
    "for i in (1,4,7,10):\n",
    "    for key, df in case[i].iteritems():\n",
    "        df[term] = df[allcols].sum(axis=1)\n",
    "    Gcomplex = case[i][\"complex\"][term].mean()\n",
    "    Glig = case[i][\"ligand\"][term].mean()\n",
    "    Greceptor = case[i][\"receptor\"][term].mean()\n",
    "    dG = Gcomplex - (Greceptor + Glig)\n",
    "    print \"dG\",cases[i]+\":\", dG\n",
    "    dg=np.append(dg,dG)\n",
    "\n",
    "for key, df in case[13].iteritems():\n",
    "        df[term] = df[allcols].sum(axis=1)\n",
    "gcomplex = case[13][\"complex\"][\"all\"].mean()\n",
    "glig = case[13][\"ligand\"][\"all\"].mean()\n",
    "greceptor = case[13][\"receptor\"][\"all\"].mean()\n",
    "dG = (greceptor + glig) - gcomplex\n",
    "print \"dG\",cases[13]+\":\", dG\n",
    "dg=np.append(dg,dG)\n",
    "    \n",
    "print ''\n",
    "\n",
    "for j in np.arange(0,5):\n",
    "    ddG = dg[j] - dg[j+5]\n",
    "    print 'ddG for',names[j]+\":\", ddG"
   ]
  },
  {
   "cell_type": "markdown",
   "metadata": {},
   "source": [
    "Calculating the following equation: $\\Delta G \\equiv  \\Delta(G_{c Ca} - G_{c Mg}) - \\Delta(G_{r Ca} - G_{r Mg})$"
   ]
  },
  {
   "cell_type": "code",
   "execution_count": 18,
   "metadata": {
    "scrolled": true
   },
   "outputs": [
    {
     "name": "stdout",
     "output_type": "stream",
     "text": [
      "1RWY_Ca: 122.78395069999897\n",
      "1S3P_Ca: 131.009652499999\n",
      "1XVJ_Ca: 97.23790125000414\n",
      "1G33_Ca: 131.5947574999991\n",
      "1RRO_Ca: 76.50334386076247\n"
     ]
    }
   ],
   "source": [
    "names=[\"1RWY_Ca\",\"1RWY_Mg\",\"1RWY_apo\",\"1S3P_Ca\",\"1S3P_Mg\",\"1S3P_apo\",\"1XVJ_Ca\",\\\n",
    "       \"1XVJ_Mg\",\"1XVJ_apo\",\"1G33_Ca\",\"1G33_Mg\",\"1G33_apo\",\"1RRO_Ca\",\"1RRO_Mg\",\\\n",
    "       \"1RRO_apo\"]\n",
    "for i in range(0,13,3):\n",
    "    Gcomplexca = case[i][\"complex\"]['all'].mean()\n",
    "    Gcomplexmg = case[i+1][\"complex\"]['all'].mean()\n",
    "    Greceptorca = case[i][\"receptor\"]['all'].mean()\n",
    "    Greceptormg = case[i+1][\"receptor\"]['all'].mean()\n",
    "    ddG = (Gcomplexca - Gcomplexmg) - (Greceptorca - Greceptormg)\n",
    "    print names[i]+\":\", ddG"
   ]
  },
  {
   "cell_type": "markdown",
   "metadata": {},
   "source": [
    "Calculating the following equation: $\\Delta G \\equiv  \\Delta(G_{cCa} - G_{cMg}) - \\Delta G_{rApo}$"
   ]
  },
  {
   "cell_type": "code",
   "execution_count": 43,
   "metadata": {},
   "outputs": [
    {
     "name": "stdout",
     "output_type": "stream",
     "text": [
      "1RWY_Ca: -78.8773923999999\n",
      "1S3P_Ca: -49.55951874999985\n",
      "1XVJ_Ca: -87.76995250000007\n",
      "1G33_Ca: 41.09295499999987\n",
      "1RRO_Ca: 1635.1684888449367\n"
     ]
    }
   ],
   "source": [
    "term = 'all'\n",
    "# sum up valence terms\n",
    "for i in (2,5,8,11,14):\n",
    "    for key, df in case[i].iteritems():\n",
    "        df[term] = df[allcols].sum(axis=1)\n",
    "for i in range(0,13,3):\n",
    "    Gcomplexca = case[i][\"complex\"]['all'].mean()\n",
    "    Gcomplexmg = case[i+1][\"complex\"]['all'].mean()\n",
    "    Greceptorca = case[i][\"receptor\"]['all'].mean()\n",
    "    Greceptormg = case[i+1][\"receptor\"]['all'].mean()\n",
    "    Greceptorapo = case[i+2][\"receptor\"]['all'].mean()\n",
    "    ddG = (Gcomplexca - Gcomplexmg) - (Greceptorapo)\n",
    "    print names[i]+\":\", ddG"
   ]
  },
  {
   "cell_type": "markdown",
   "metadata": {},
   "source": [
    "#### electrostatic only"
   ]
  },
  {
   "cell_type": "code",
   "execution_count": 15,
   "metadata": {},
   "outputs": [
    {
     "name": "stdout",
     "output_type": "stream",
     "text": [
      "apv_1RWY_Ca : 56.99295314999995\n",
      "apv_1RWY_Mg : 53.40612624999994\n",
      "apv_1S3P_Ca : 56.041987500000005\n",
      "apv_1S3P_Mg : 50.433778749999874\n",
      "apv_1XVJ_Ca : 51.00935125000001\n",
      "apv_1XVJ_Mg : 49.783516250000275\n",
      "bpv_1G33_Ca : 61.38889999999992\n",
      "bpv_1G33_Mg : 55.57034999999996\n",
      "bpv_1RRO_Ca : 52.20589250000012\n",
      "bpv_1RRO_Mg : 50.95129367088657\n"
     ]
    }
   ],
   "source": [
    "term = 'Non-electro'\n",
    "col_list =['BOND','ANGLE','DIHED','VDWAAL']\n",
    "\n",
    "for i in np.arange(10):\n",
    "    # sum up valence terms\n",
    "    for key, df  in case[i].iteritems():\n",
    "      #print key\n",
    "      df[term] = df[col_list].sum(axis=1)\n",
    "\n",
    "    Gcomplex = case[i][\"complex\"][term].mean()\n",
    "    Glig = case[i][\"ligand\"][term].mean()\n",
    "    Greceptor = case[i][\"receptor\"][term].mean()\n",
    "    dG = Gcomplex - (Glig + Greceptor)\n",
    "    print cases[i],\":\", dG\n",
    "\n"
   ]
  },
  {
   "cell_type": "markdown",
   "metadata": {},
   "source": [
    "For comparing different proteins, might make a dataframe like the following\n"
   ]
  },
  {
   "cell_type": "code",
   "execution_count": 112,
   "metadata": {
    "collapsed": true
   },
   "outputs": [],
   "source": [
    "import numpy as np"
   ]
  },
  {
   "cell_type": "code",
   "execution_count": 125,
   "metadata": {},
   "outputs": [
    {
     "name": "stdout",
     "output_type": "stream",
     "text": [
      "          valence_complex  valence_prot  valence_lig\n",
      "aPVWT_Ca            -10.0           0.0          1.0\n",
      "aPVWT_Mg             -9.0           0.0          1.0\n"
     ]
    }
   ],
   "source": [
    "allProts = pd.DataFrame(columns=['valence_complex','valence_prot','valence_lig'])\n",
    "allProts.loc[\"aPVWT_Ca\"] = [-10,0,1]\n",
    "allProts.loc[\"aPVWT_Mg\"] = [-9,0,1]\n",
    "print allProts"
   ]
  },
  {
   "cell_type": "code",
   "execution_count": 130,
   "metadata": {},
   "outputs": [
    {
     "name": "stdout",
     "output_type": "stream",
     "text": [
      "-1.0\n"
     ]
    }
   ],
   "source": [
    "dGcomplex = allProts[\"valence_complex\"][\"aPVWT_Ca\"] - allProts[\"valence_complex\"]\\\n",
    "[\"aPVWT_Mg\"]\n",
    "dGprot = allProts[\"valence_prot\"][\"aPVWT_Ca\"] - allProts[\"valence_prot\"][\"aPVWT_Mg\"]\n",
    "dGlig = allProts[\"valence_lig\"][\"aPVWT_Ca\"] - allProts[\"valence_lig\"][\"aPVWT_Mg\"]\n",
    "ddG = dGcomplex - (dGprot - dGlig)\n",
    "print ddG"
   ]
  },
  {
   "cell_type": "code",
   "execution_count": null,
   "metadata": {
    "collapsed": true
   },
   "outputs": [],
   "source": []
  }
 ],
 "metadata": {
  "kernelspec": {
   "display_name": "Python 2",
   "language": "python",
   "name": "python2"
  },
  "language_info": {
   "codemirror_mode": {
    "name": "ipython",
    "version": 2
   },
   "file_extension": ".py",
   "mimetype": "text/x-python",
   "name": "python",
   "nbconvert_exporter": "python",
   "pygments_lexer": "ipython2",
   "version": "2.7.5"
  }
 },
 "nbformat": 4,
 "nbformat_minor": 2
}
