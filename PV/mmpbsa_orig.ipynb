{
 "cells": [
  {
   "cell_type": "code",
   "execution_count": 36,
   "metadata": {
    "collapsed": true
   },
   "outputs": [],
   "source": [
    "import pandas as pd"
   ]
  },
  {
   "cell_type": "code",
   "execution_count": 86,
   "metadata": {},
   "outputs": [
    {
     "name": "stdout",
     "output_type": "stream",
     "text": [
      "complex\n",
      "receptor\n",
      "ligand\n",
      "items: ['BOND', 'ANGLE', 'DIHED', 'VDWAAL', 'ELE', 'EPB', '1-4VDW', '1-4ELE', 'RESTR', 'ECAVITY', 'EDISPER']\n"
     ]
    }
   ],
   "source": [
    "# /net/share/cad234/projects/pv/apv_1RWY_Ca/pbsa\n",
    "path = \"/Users/huskeypm/Downloads/\"\n",
    "components = [\"complex\",\"receptor\",\"ligand\"]\n",
    "\n",
    "dfs = dict()\n",
    "\n",
    "for component in components:\n",
    "    print component\n",
    "    df = pd.read_table(path+\"energies_%s_prod1.dat\"%component,sep=\"\\s+\",header=0)\n",
    "    dfs[component] = df\n",
    "    \n",
    "    \n",
    "print \"items:\",list(df)\n",
    "allcols = list(df)"
   ]
  },
  {
   "cell_type": "markdown",
   "metadata": {},
   "source": [
    "### Full MMPBSA \n",
    "\n",
    "$\\Delta G \\equiv G_p - (G_l + G_r)$"
   ]
  },
  {
   "cell_type": "markdown",
   "metadata": {},
   "source": [
    "#### All contributions"
   ]
  },
  {
   "cell_type": "code",
   "execution_count": 88,
   "metadata": {},
   "outputs": [
    {
     "name": "stdout",
     "output_type": "stream",
     "text": [
      "complex\n",
      "receptor\n",
      "ligand\n",
      "93.328347225\n"
     ]
    }
   ],
   "source": [
    "term = 'all'\n",
    "# sum up valence terms\n",
    "for key, df  in dfs.iteritems():\n",
    "  print key\n",
    "  df[term] = df[allcols].sum(axis=1)\n",
    "\n",
    "    \n",
    "\n",
    "\n",
    "\n",
    "Gcomplex = dfs[\"complex\"][term].mean()\n",
    "Glig = dfs[\"ligand\"][term].mean()\n",
    "Greceptor = dfs[\"receptor\"][term].mean()\n",
    "dG = Gcomplex - (Glig + Greceptor)\n",
    "print dG"
   ]
  },
  {
   "cell_type": "markdown",
   "metadata": {},
   "source": [
    "#### electrostatic only"
   ]
  },
  {
   "cell_type": "code",
   "execution_count": 89,
   "metadata": {},
   "outputs": [
    {
     "name": "stdout",
     "output_type": "stream",
     "text": [
      "complex\n",
      "receptor\n",
      "ligand\n",
      "56.99295315\n"
     ]
    }
   ],
   "source": [
    "\n",
    "term = 'Non-electro'\n",
    "col_list =['BOND','ANGLE','DIHED','VDWAAL']\n",
    "\n",
    "# sum up valence terms\n",
    "for key, df  in dfs.iteritems():\n",
    "  print key\n",
    "  df[term] = df[col_list].sum(axis=1)\n",
    "\n",
    "    \n",
    "\n",
    "\n",
    "\n",
    "Gcomplex = dfs[\"complex\"][term].mean()\n",
    "Glig = dfs[\"ligand\"][term].mean()\n",
    "Greceptor = dfs[\"receptor\"][term].mean()\n",
    "dG = Gcomplex - (Glig + Greceptor)\n",
    "print dG\n",
    "\n"
   ]
  },
  {
   "cell_type": "markdown",
   "metadata": {},
   "source": [
    "For comparing different proteins, might make a dataframe like the following\n"
   ]
  },
  {
   "cell_type": "code",
   "execution_count": 112,
   "metadata": {
    "collapsed": true
   },
   "outputs": [],
   "source": [
    "import numpy as np"
   ]
  },
  {
   "cell_type": "code",
   "execution_count": 125,
   "metadata": {},
   "outputs": [
    {
     "name": "stdout",
     "output_type": "stream",
     "text": [
      "          valence_complex  valence_prot  valence_lig\n",
      "aPVWT_Ca            -10.0           0.0          1.0\n",
      "aPVWT_Mg             -9.0           0.0          1.0\n"
     ]
    }
   ],
   "source": [
    "allProts = pd.DataFrame(columns=['valence_complex','valence_prot','valence_lig'])\n",
    "allProts.loc[\"aPVWT_Ca\"] = [-10,0,1]\n",
    "allProts.loc[\"aPVWT_Mg\"] = [-9,0,1]\n",
    "print allProts"
   ]
  },
  {
   "cell_type": "code",
   "execution_count": 130,
   "metadata": {},
   "outputs": [
    {
     "name": "stdout",
     "output_type": "stream",
     "text": [
      "-1.0\n"
     ]
    }
   ],
   "source": [
    "dGcomplex = allProts[\"valence_complex\"][\"aPVWT_Ca\"] - allProts[\"valence_complex\"][\"aPVWT_Mg\"]\n",
    "dGprot = allProts[\"valence_prot\"][\"aPVWT_Ca\"] - allProts[\"valence_prot\"][\"aPVWT_Mg\"]\n",
    "dGlig = allProts[\"valence_lig\"][\"aPVWT_Ca\"] - allProts[\"valence_lig\"][\"aPVWT_Mg\"]\n",
    "ddG = dGcomplex - (dGprot - dGlig)\n",
    "print ddG"
   ]
  },
  {
   "cell_type": "code",
   "execution_count": null,
   "metadata": {
    "collapsed": true
   },
   "outputs": [],
   "source": []
  }
 ],
 "metadata": {
  "kernelspec": {
   "display_name": "Python 2",
   "language": "python",
   "name": "python2"
  },
  "language_info": {
   "codemirror_mode": {
    "name": "ipython",
    "version": 2
   },
   "file_extension": ".py",
   "mimetype": "text/x-python",
   "name": "python",
   "nbconvert_exporter": "python",
   "pygments_lexer": "ipython2",
   "version": "2.7.14"
  }
 },
 "nbformat": 4,
 "nbformat_minor": 2
}
