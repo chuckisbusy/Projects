{
 "cells": [
  {
   "cell_type": "markdown",
   "metadata": {},
   "source": [
    "### Comparing Regression Models\n",
    "In this notebook, we'll look at methods for comparing regression models.  In this notebook, we'll use results from the paper [Validation of AMBER/GAFF for Relative Free Energy Calculations](https://chemrxiv.org/articles/Validation_of_AMBER_GAFF_for_Relative_Free_Energy_Calculations/7653434) to compare two different approaches to free energy calculations.  More information can be found in this [blog post](http://practicalcheminformatics.blogspot.com/2019/02/some-thoughts-on-evaluating-predictive.html). "
   ]
  },
  {
   "cell_type": "code",
   "execution_count": 1,
   "metadata": {},
   "outputs": [],
   "source": [
    "import pandas as pd\n",
    "import matplotlib.pyplot as plt\n",
    "import seaborn as sns\n",
    "import math\n",
    "import numpy as np\n",
    "import warnings\n",
    "from scipy.stats import norm, pearsonr\n",
    "from sklearn.metrics import mean_squared_error\n",
    "from scipy.stats import pearsonr\n",
    "from collections import namedtuple\n",
    "from math import sqrt"
   ]
  },
  {
   "cell_type": "markdown",
   "metadata": {},
   "source": [
    "#### Read and Parse the Input Data\n",
    "As a first step, we want to grab the data from a set of Excel worksheets in the supporting material.  The Excel workbook has multiple sheets, we need to get the names of those sheets. Fortunately Pandas has all sorts of facilities for manipulating Excel files."
   ]
  },
  {
   "cell_type": "code",
   "execution_count": 43,
   "metadata": {},
   "outputs": [],
   "source": [
    "xls = \"../data/FEP_vs_GTI-dG-SI.xlsx\"\n",
    "df_dict = pd.read_excel(xls,sheet_name=None,header=None)"
   ]
  },
  {
   "cell_type": "markdown",
   "metadata": {},
   "source": [
    "Now we can define a function that will grab the data from a particular sheet. In this case the data we want is in columns 15-17. We'll grab those columns and create a new dataframe with the columns labeled as Experimental  Δ G, FEP  Δ G, and TI  Δ G. We will also include columns with the target and with the target concatenated with a sequential index. Ok, in truth, we're going to label the columns as Experimental_dG, etc. for convenience.  The final row in columns 15-17 is the sum of the values in the column.  We don't want this, so we'll use df = df.query(\"Experimental_dG > -20\") to get rid of the sum row."
   ]
  },
  {
   "cell_type": "code",
   "execution_count": 44,
   "metadata": {},
   "outputs": [],
   "source": [
    "def get_data_from_sheet(df_dict, sheet_name, col_names):\n",
    "    df = df_dict[sheet_name]\n",
    "    df = df[df.columns[15:18]]\n",
    "    col_names = [\"Experimental_dG\",\"FEP_dG\",\"TI_dG\"]\n",
    "    df.columns = col_names\n",
    "    df = df.dropna()\n",
    "    df = df.query(\"Experimental_dG > -20\")\n",
    "    rows,_ = df.shape\n",
    "    df.insert(0,\"Target\",[sheet_name]*rows)\n",
    "    df.insert(1,\"ID\",[f\"{sheet_name}_{x}\" for x in range(0,rows)])\n",
    "    return df"
   ]
  },
  {
   "cell_type": "markdown",
   "metadata": {},
   "source": [
    "Define the number of decimal places displayed in the Pandas table."
   ]
  },
  {
   "cell_type": "code",
   "execution_count": 45,
   "metadata": {},
   "outputs": [],
   "source": [
    "pd.options.display.float_format = '{:,.2f}'.format"
   ]
  },
  {
   "cell_type": "markdown",
   "metadata": {},
   "source": [
    "Read the Excel sheets and put the data into a Pandas dataframe."
   ]
  },
  {
   "cell_type": "code",
   "execution_count": 46,
   "metadata": {},
   "outputs": [
    {
     "name": "stderr",
     "output_type": "stream",
     "text": [
      "/tmp/ipykernel_1598740/3479373171.py:6: FutureWarning: The behavior of DataFrame concatenation with empty or all-NA entries is deprecated. In a future version, this will no longer exclude empty or all-NA columns when determining the result dtypes. To retain the old behavior, exclude the relevant entries before the concat operation.\n",
      "  big_df = pd.concat([big_df, tmp_df])\n"
     ]
    }
   ],
   "source": [
    "sheet_names = df_dict.keys()\n",
    "col_names = [\"Experimental_dG\",\"FEP_dG\",\"TI_dG\"]\n",
    "big_df = pd.DataFrame(columns=[\"Target\",\"ID\"]+col_names)\n",
    "for sheet in sheet_names:\n",
    "    tmp_df = get_data_from_sheet(df_dict,sheet,col_names)\n",
    "    big_df = pd.concat([big_df, tmp_df])\n",
    "big_df.sort_values(\"Target\",inplace=True)"
   ]
  },
  {
   "cell_type": "code",
   "execution_count": 47,
   "metadata": {},
   "outputs": [
    {
     "data": {
      "text/html": [
       "<div>\n",
       "<style scoped>\n",
       "    .dataframe tbody tr th:only-of-type {\n",
       "        vertical-align: middle;\n",
       "    }\n",
       "\n",
       "    .dataframe tbody tr th {\n",
       "        vertical-align: top;\n",
       "    }\n",
       "\n",
       "    .dataframe thead th {\n",
       "        text-align: right;\n",
       "    }\n",
       "</style>\n",
       "<table border=\"1\" class=\"dataframe\">\n",
       "  <thead>\n",
       "    <tr style=\"text-align: right;\">\n",
       "      <th></th>\n",
       "      <th>Target</th>\n",
       "      <th>ID</th>\n",
       "      <th>Experimental_dG</th>\n",
       "      <th>FEP_dG</th>\n",
       "      <th>TI_dG</th>\n",
       "    </tr>\n",
       "  </thead>\n",
       "  <tbody>\n",
       "    <tr>\n",
       "      <th>12</th>\n",
       "      <td>bace</td>\n",
       "      <td>bace_12</td>\n",
       "      <td>-8.53</td>\n",
       "      <td>-6.76</td>\n",
       "      <td>-8.27</td>\n",
       "    </tr>\n",
       "    <tr>\n",
       "      <th>30</th>\n",
       "      <td>bace</td>\n",
       "      <td>bace_30</td>\n",
       "      <td>-7.84</td>\n",
       "      <td>-7.40</td>\n",
       "      <td>-7.40</td>\n",
       "    </tr>\n",
       "    <tr>\n",
       "      <th>29</th>\n",
       "      <td>bace</td>\n",
       "      <td>bace_29</td>\n",
       "      <td>-9.01</td>\n",
       "      <td>-7.93</td>\n",
       "      <td>-7.80</td>\n",
       "    </tr>\n",
       "    <tr>\n",
       "      <th>28</th>\n",
       "      <td>bace</td>\n",
       "      <td>bace_28</td>\n",
       "      <td>-8.25</td>\n",
       "      <td>-7.01</td>\n",
       "      <td>-9.72</td>\n",
       "    </tr>\n",
       "    <tr>\n",
       "      <th>27</th>\n",
       "      <td>bace</td>\n",
       "      <td>bace_27</td>\n",
       "      <td>-9.10</td>\n",
       "      <td>-10.14</td>\n",
       "      <td>-10.16</td>\n",
       "    </tr>\n",
       "  </tbody>\n",
       "</table>\n",
       "</div>"
      ],
      "text/plain": [
       "   Target       ID  Experimental_dG  FEP_dG  TI_dG\n",
       "12   bace  bace_12            -8.53   -6.76  -8.27\n",
       "30   bace  bace_30            -7.84   -7.40  -7.40\n",
       "29   bace  bace_29            -9.01   -7.93  -7.80\n",
       "28   bace  bace_28            -8.25   -7.01  -9.72\n",
       "27   bace  bace_27            -9.10  -10.14 -10.16"
      ]
     },
     "execution_count": 47,
     "metadata": {},
     "output_type": "execute_result"
    }
   ],
   "source": [
    "big_df.head()"
   ]
  },
  {
   "cell_type": "code",
   "execution_count": 48,
   "metadata": {},
   "outputs": [],
   "source": [
    "big_df.to_csv(\"../data/fep_comparison.csv\",index=False)"
   ]
  },
  {
   "cell_type": "markdown",
   "metadata": {},
   "source": [
    "#### Reformat the Data for Plotting\n",
    "In order to make some of our plots we need to reshape the data so that \"FEP_dG\" and \"TI_dG\" are in one column.  We can use the Pandas \"melt\" function to do this. "
   ]
  },
  {
   "cell_type": "code",
   "execution_count": 49,
   "metadata": {},
   "outputs": [],
   "source": [
    "mdf = big_df.melt(id_vars=[\"Target\",\"ID\",\"Experimental_dG\"])\n",
    "mdf[\"DataSet\"] = mdf.Target + \"_\" + mdf.variable.str.replace(\"_dG\",\"\")\n",
    "mdf.sort_values(\"DataSet\",inplace=True)\n",
    "cols = list(mdf.columns)\n",
    "cols[4] = \"Predicted_dG\"\n",
    "mdf.columns = cols"
   ]
  },
  {
   "cell_type": "code",
   "execution_count": 50,
   "metadata": {},
   "outputs": [
    {
     "data": {
      "text/html": [
       "<div>\n",
       "<style scoped>\n",
       "    .dataframe tbody tr th:only-of-type {\n",
       "        vertical-align: middle;\n",
       "    }\n",
       "\n",
       "    .dataframe tbody tr th {\n",
       "        vertical-align: top;\n",
       "    }\n",
       "\n",
       "    .dataframe thead th {\n",
       "        text-align: right;\n",
       "    }\n",
       "</style>\n",
       "<table border=\"1\" class=\"dataframe\">\n",
       "  <thead>\n",
       "    <tr style=\"text-align: right;\">\n",
       "      <th></th>\n",
       "      <th>Target</th>\n",
       "      <th>ID</th>\n",
       "      <th>Experimental_dG</th>\n",
       "      <th>variable</th>\n",
       "      <th>Predicted_dG</th>\n",
       "      <th>DataSet</th>\n",
       "    </tr>\n",
       "  </thead>\n",
       "  <tbody>\n",
       "    <tr>\n",
       "      <th>0</th>\n",
       "      <td>bace</td>\n",
       "      <td>bace_12</td>\n",
       "      <td>-8.53</td>\n",
       "      <td>FEP_dG</td>\n",
       "      <td>-6.76</td>\n",
       "      <td>bace_FEP</td>\n",
       "    </tr>\n",
       "    <tr>\n",
       "      <th>20</th>\n",
       "      <td>bace</td>\n",
       "      <td>bace_10</td>\n",
       "      <td>-9.69</td>\n",
       "      <td>FEP_dG</td>\n",
       "      <td>-9.38</td>\n",
       "      <td>bace_FEP</td>\n",
       "    </tr>\n",
       "    <tr>\n",
       "      <th>21</th>\n",
       "      <td>bace</td>\n",
       "      <td>bace_9</td>\n",
       "      <td>-8.72</td>\n",
       "      <td>FEP_dG</td>\n",
       "      <td>-8.73</td>\n",
       "      <td>bace_FEP</td>\n",
       "    </tr>\n",
       "    <tr>\n",
       "      <th>22</th>\n",
       "      <td>bace</td>\n",
       "      <td>bace_0</td>\n",
       "      <td>-8.83</td>\n",
       "      <td>FEP_dG</td>\n",
       "      <td>-8.82</td>\n",
       "      <td>bace_FEP</td>\n",
       "    </tr>\n",
       "    <tr>\n",
       "      <th>23</th>\n",
       "      <td>bace</td>\n",
       "      <td>bace_1</td>\n",
       "      <td>-9.11</td>\n",
       "      <td>FEP_dG</td>\n",
       "      <td>-8.90</td>\n",
       "      <td>bace_FEP</td>\n",
       "    </tr>\n",
       "  </tbody>\n",
       "</table>\n",
       "</div>"
      ],
      "text/plain": [
       "   Target       ID  Experimental_dG variable  Predicted_dG   DataSet\n",
       "0    bace  bace_12            -8.53   FEP_dG         -6.76  bace_FEP\n",
       "20   bace  bace_10            -9.69   FEP_dG         -9.38  bace_FEP\n",
       "21   bace   bace_9            -8.72   FEP_dG         -8.73  bace_FEP\n",
       "22   bace   bace_0            -8.83   FEP_dG         -8.82  bace_FEP\n",
       "23   bace   bace_1            -9.11   FEP_dG         -8.90  bace_FEP"
      ]
     },
     "execution_count": 50,
     "metadata": {},
     "output_type": "execute_result"
    }
   ],
   "source": [
    "mdf.head()"
   ]
  },
  {
   "cell_type": "markdown",
   "metadata": {},
   "source": [
    "In order to make the plots look better we'll add another column called \"Method\" to label FEP and TI"
   ]
  },
  {
   "cell_type": "code",
   "execution_count": 51,
   "metadata": {},
   "outputs": [],
   "source": [
    "mdf[\"Method\"] = [x.replace(\"_dG\",\"\") for x in mdf.variable.values]"
   ]
  },
  {
   "cell_type": "code",
   "execution_count": 52,
   "metadata": {},
   "outputs": [
    {
     "data": {
      "text/html": [
       "<div>\n",
       "<style scoped>\n",
       "    .dataframe tbody tr th:only-of-type {\n",
       "        vertical-align: middle;\n",
       "    }\n",
       "\n",
       "    .dataframe tbody tr th {\n",
       "        vertical-align: top;\n",
       "    }\n",
       "\n",
       "    .dataframe thead th {\n",
       "        text-align: right;\n",
       "    }\n",
       "</style>\n",
       "<table border=\"1\" class=\"dataframe\">\n",
       "  <thead>\n",
       "    <tr style=\"text-align: right;\">\n",
       "      <th></th>\n",
       "      <th>Target</th>\n",
       "      <th>ID</th>\n",
       "      <th>Experimental_dG</th>\n",
       "      <th>variable</th>\n",
       "      <th>Predicted_dG</th>\n",
       "      <th>DataSet</th>\n",
       "      <th>Method</th>\n",
       "    </tr>\n",
       "  </thead>\n",
       "  <tbody>\n",
       "    <tr>\n",
       "      <th>0</th>\n",
       "      <td>bace</td>\n",
       "      <td>bace_12</td>\n",
       "      <td>-8.53</td>\n",
       "      <td>FEP_dG</td>\n",
       "      <td>-6.76</td>\n",
       "      <td>bace_FEP</td>\n",
       "      <td>FEP</td>\n",
       "    </tr>\n",
       "    <tr>\n",
       "      <th>20</th>\n",
       "      <td>bace</td>\n",
       "      <td>bace_10</td>\n",
       "      <td>-9.69</td>\n",
       "      <td>FEP_dG</td>\n",
       "      <td>-9.38</td>\n",
       "      <td>bace_FEP</td>\n",
       "      <td>FEP</td>\n",
       "    </tr>\n",
       "    <tr>\n",
       "      <th>21</th>\n",
       "      <td>bace</td>\n",
       "      <td>bace_9</td>\n",
       "      <td>-8.72</td>\n",
       "      <td>FEP_dG</td>\n",
       "      <td>-8.73</td>\n",
       "      <td>bace_FEP</td>\n",
       "      <td>FEP</td>\n",
       "    </tr>\n",
       "    <tr>\n",
       "      <th>22</th>\n",
       "      <td>bace</td>\n",
       "      <td>bace_0</td>\n",
       "      <td>-8.83</td>\n",
       "      <td>FEP_dG</td>\n",
       "      <td>-8.82</td>\n",
       "      <td>bace_FEP</td>\n",
       "      <td>FEP</td>\n",
       "    </tr>\n",
       "    <tr>\n",
       "      <th>23</th>\n",
       "      <td>bace</td>\n",
       "      <td>bace_1</td>\n",
       "      <td>-9.11</td>\n",
       "      <td>FEP_dG</td>\n",
       "      <td>-8.90</td>\n",
       "      <td>bace_FEP</td>\n",
       "      <td>FEP</td>\n",
       "    </tr>\n",
       "  </tbody>\n",
       "</table>\n",
       "</div>"
      ],
      "text/plain": [
       "   Target       ID  Experimental_dG variable  Predicted_dG   DataSet Method\n",
       "0    bace  bace_12            -8.53   FEP_dG         -6.76  bace_FEP    FEP\n",
       "20   bace  bace_10            -9.69   FEP_dG         -9.38  bace_FEP    FEP\n",
       "21   bace   bace_9            -8.72   FEP_dG         -8.73  bace_FEP    FEP\n",
       "22   bace   bace_0            -8.83   FEP_dG         -8.82  bace_FEP    FEP\n",
       "23   bace   bace_1            -9.11   FEP_dG         -8.90  bace_FEP    FEP"
      ]
     },
     "execution_count": 52,
     "metadata": {},
     "output_type": "execute_result"
    }
   ],
   "source": [
    "mdf.head()"
   ]
  },
  {
   "cell_type": "markdown",
   "metadata": {},
   "source": [
    "Ok, now we're ready to make some plots.  I want to use the Seaborn FacetGrid class to put plots side by side.  In order to do this, I'm going to define a custom plotting function that plots Experimental $\\Delta$G vs Predicted $\\Delta$G.  We also want to put in lines at 2 kcal above and below the unity line.  I could make this function more customizable and pass a bunch of kwargs, but that will also make the function a lot more complicated.  For things like this, I often find it easier just to hard code the parameters I want.  The only argument being passed is \"skip_text\" which tells the function whether to display the $R^2$ for the correlation."
   ]
  },
  {
   "cell_type": "code",
   "execution_count": 62,
   "metadata": {},
   "outputs": [],
   "source": [
    "def draw_dG_facet(*args,**kwargs):\n",
    "    skip_text = False\n",
    "    if kwargs.get(\"skip_text\"):\n",
    "        kwargs.pop(\"skip_text\")\n",
    "        skip_text = True\n",
    "    xlim, ylim = np.array([[-15,-4],[-15,-4]])\n",
    "    with warnings.catch_warnings():\n",
    "        warnings.filterwarnings(\"ignore\", category=FutureWarning)\n",
    "        ax = sns.scatterplot(*args,**kwargs)\n",
    "    r2 = pearsonr(args[0],args[1])[0]**2\n",
    "    pad = 2\n",
    "    if not skip_text:\n",
    "        ax.text(-14,-6,f\"$R^2$={r2:.2f}\")\n",
    "    ax.plot(xlim,ylim,linewidth=2, color='blue')\n",
    "    ax.plot(xlim,ylim+pad,color=\"black\",linestyle=\"--\")\n",
    "    ax.plot(xlim,ylim-pad,color=\"black\",linestyle=\"--\")\n",
    "    ax.set(xlim=xlim,ylim=ylim)"
   ]
  },
  {
   "cell_type": "markdown",
   "metadata": {},
   "source": [
    "#### Putting Everything on One Plot (Please Don't Do This)\n",
    "Make a plot like the one in Wang et al. https://pubs.acs.org/doi/10.1021/ja512751q I find this plot very confusing, but I wanted to prove to myself that I could reproduce it."
   ]
  },
  {
   "cell_type": "code",
   "execution_count": 63,
   "metadata": {},
   "outputs": [
    {
     "ename": "TypeError",
     "evalue": "scatterplot() takes from 0 to 1 positional arguments but 2 were given",
     "output_type": "error",
     "traceback": [
      "\u001b[0;31m---------------------------------------------------------------------------\u001b[0m",
      "\u001b[0;31mTypeError\u001b[0m                                 Traceback (most recent call last)",
      "Cell \u001b[0;32mIn[63], line 5\u001b[0m\n\u001b[1;32m      3\u001b[0m g \u001b[38;5;241m=\u001b[39m sns\u001b[38;5;241m.\u001b[39mFacetGrid(mdf,col\u001b[38;5;241m=\u001b[39m\u001b[38;5;124m\"\u001b[39m\u001b[38;5;124mMethod\u001b[39m\u001b[38;5;124m\"\u001b[39m,hue\u001b[38;5;241m=\u001b[39m\u001b[38;5;124m\"\u001b[39m\u001b[38;5;124mTarget\u001b[39m\u001b[38;5;124m\"\u001b[39m,col_wrap\u001b[38;5;241m=\u001b[39m\u001b[38;5;241m2\u001b[39m,height\u001b[38;5;241m=\u001b[39m\u001b[38;5;241m8\u001b[39m,legend_out\u001b[38;5;241m=\u001b[39m\u001b[38;5;28;01mTrue\u001b[39;00m)\n\u001b[1;32m      4\u001b[0m \u001b[38;5;66;03m# g.map(draw_dG_facet,\"Experimental_dG\",\"Predicted_dG\",skip_text=True,s=100)\u001b[39;00m\n\u001b[0;32m----> 5\u001b[0m \u001b[43mg\u001b[49m\u001b[38;5;241;43m.\u001b[39;49m\u001b[43mmap\u001b[49m\u001b[43m(\u001b[49m\u001b[43mdraw_dG_facet\u001b[49m\u001b[43m,\u001b[49m\u001b[38;5;124;43m\"\u001b[39;49m\u001b[38;5;124;43mExperimental_dG\u001b[39;49m\u001b[38;5;124;43m\"\u001b[39;49m\u001b[43m,\u001b[49m\u001b[38;5;124;43m\"\u001b[39;49m\u001b[38;5;124;43mPredicted_dG\u001b[39;49m\u001b[38;5;124;43m\"\u001b[39;49m\u001b[43m,\u001b[49m\u001b[43ms\u001b[49m\u001b[38;5;241;43m=\u001b[39;49m\u001b[38;5;241;43m100\u001b[39;49m\u001b[43m)\u001b[49m\n\u001b[1;32m      6\u001b[0m _ \u001b[38;5;241m=\u001b[39m g\u001b[38;5;241m.\u001b[39mset_titles(col_template\u001b[38;5;241m=\u001b[39m\u001b[38;5;124m\"\u001b[39m\u001b[38;5;132;01m{col_name}\u001b[39;00m\u001b[38;5;124m\"\u001b[39m)\n\u001b[1;32m      7\u001b[0m g\u001b[38;5;241m.\u001b[39mset_xlabels(\u001b[38;5;124m\"\u001b[39m\u001b[38;5;124mExperimental $\u001b[39m\u001b[38;5;124m\\\u001b[39m\u001b[38;5;124mDelta$G (kcal/mol)\u001b[39m\u001b[38;5;124m\"\u001b[39m)\n",
      "File \u001b[0;32m~/.local/lib/python3.11/site-packages/seaborn/axisgrid.py:758\u001b[0m, in \u001b[0;36mFacetGrid.map\u001b[0;34m(self, func, *args, **kwargs)\u001b[0m\n\u001b[1;32m    755\u001b[0m         plot_args \u001b[38;5;241m=\u001b[39m [v\u001b[38;5;241m.\u001b[39mvalues \u001b[38;5;28;01mfor\u001b[39;00m v \u001b[38;5;129;01min\u001b[39;00m plot_args]\n\u001b[1;32m    757\u001b[0m     \u001b[38;5;66;03m# Draw the plot\u001b[39;00m\n\u001b[0;32m--> 758\u001b[0m     \u001b[38;5;28;43mself\u001b[39;49m\u001b[38;5;241;43m.\u001b[39;49m\u001b[43m_facet_plot\u001b[49m\u001b[43m(\u001b[49m\u001b[43mfunc\u001b[49m\u001b[43m,\u001b[49m\u001b[43m \u001b[49m\u001b[43max\u001b[49m\u001b[43m,\u001b[49m\u001b[43m \u001b[49m\u001b[43mplot_args\u001b[49m\u001b[43m,\u001b[49m\u001b[43m \u001b[49m\u001b[43mkwargs\u001b[49m\u001b[43m)\u001b[49m\n\u001b[1;32m    760\u001b[0m \u001b[38;5;66;03m# Finalize the annotations and layout\u001b[39;00m\n\u001b[1;32m    761\u001b[0m \u001b[38;5;28mself\u001b[39m\u001b[38;5;241m.\u001b[39m_finalize_grid(args[:\u001b[38;5;241m2\u001b[39m])\n",
      "File \u001b[0;32m~/.local/lib/python3.11/site-packages/seaborn/axisgrid.py:854\u001b[0m, in \u001b[0;36mFacetGrid._facet_plot\u001b[0;34m(self, func, ax, plot_args, plot_kwargs)\u001b[0m\n\u001b[1;32m    852\u001b[0m     plot_args \u001b[38;5;241m=\u001b[39m []\n\u001b[1;32m    853\u001b[0m     plot_kwargs[\u001b[38;5;124m\"\u001b[39m\u001b[38;5;124max\u001b[39m\u001b[38;5;124m\"\u001b[39m] \u001b[38;5;241m=\u001b[39m ax\n\u001b[0;32m--> 854\u001b[0m \u001b[43mfunc\u001b[49m\u001b[43m(\u001b[49m\u001b[38;5;241;43m*\u001b[39;49m\u001b[43mplot_args\u001b[49m\u001b[43m,\u001b[49m\u001b[43m \u001b[49m\u001b[38;5;241;43m*\u001b[39;49m\u001b[38;5;241;43m*\u001b[39;49m\u001b[43mplot_kwargs\u001b[49m\u001b[43m)\u001b[49m\n\u001b[1;32m    856\u001b[0m \u001b[38;5;66;03m# Sort out the supporting information\u001b[39;00m\n\u001b[1;32m    857\u001b[0m \u001b[38;5;28mself\u001b[39m\u001b[38;5;241m.\u001b[39m_update_legend_data(ax)\n",
      "Cell \u001b[0;32mIn[62], line 9\u001b[0m, in \u001b[0;36mdraw_dG_facet\u001b[0;34m(*args, **kwargs)\u001b[0m\n\u001b[1;32m      7\u001b[0m \u001b[38;5;28;01mwith\u001b[39;00m warnings\u001b[38;5;241m.\u001b[39mcatch_warnings():\n\u001b[1;32m      8\u001b[0m     warnings\u001b[38;5;241m.\u001b[39mfilterwarnings(\u001b[38;5;124m\"\u001b[39m\u001b[38;5;124mignore\u001b[39m\u001b[38;5;124m\"\u001b[39m, category\u001b[38;5;241m=\u001b[39m\u001b[38;5;167;01mFutureWarning\u001b[39;00m)\n\u001b[0;32m----> 9\u001b[0m     ax \u001b[38;5;241m=\u001b[39m \u001b[43msns\u001b[49m\u001b[38;5;241;43m.\u001b[39;49m\u001b[43mscatterplot\u001b[49m\u001b[43m(\u001b[49m\u001b[38;5;241;43m*\u001b[39;49m\u001b[43margs\u001b[49m\u001b[43m)\u001b[49m\n\u001b[1;32m     10\u001b[0m r2 \u001b[38;5;241m=\u001b[39m pearsonr(args[\u001b[38;5;241m0\u001b[39m],args[\u001b[38;5;241m1\u001b[39m])[\u001b[38;5;241m0\u001b[39m]\u001b[38;5;241m*\u001b[39m\u001b[38;5;241m*\u001b[39m\u001b[38;5;241m2\u001b[39m\n\u001b[1;32m     11\u001b[0m pad \u001b[38;5;241m=\u001b[39m \u001b[38;5;241m2\u001b[39m\n",
      "\u001b[0;31mTypeError\u001b[0m: scatterplot() takes from 0 to 1 positional arguments but 2 were given"
     ]
    },
    {
     "data": {
      "image/png": "[encoded data removed]",
      "text/plain": [
       "<Figure size 1600x800 with 2 Axes>"
      ]
     },
     "metadata": {},
     "output_type": "display_data"
    }
   ],
   "source": [
    "sns.set(font_scale=2)\n",
    "sns.set_style(\"white\")\n",
    "g = sns.FacetGrid(mdf,col=\"Method\",hue=\"Target\",col_wrap=2,height=8,legend_out=True)\n",
    "# g.map(draw_dG_facet,\"Experimental_dG\",\"Predicted_dG\",skip_text=True,s=100)\n",
    "g.map(draw_dG_facet,\"Experimental_dG\",\"Predicted_dG\",s=100)\n",
    "_ = g.set_titles(col_template=\"{col_name}\")\n",
    "g.set_xlabels(\"Experimental $\\Delta$G (kcal/mol)\")\n",
    "g.set_ylabels(\"Predicted $\\Delta$G (kcal/mol)\")\n",
    "_ = g.add_legend()"
   ]
  },
  {
   "cell_type": "markdown",
   "metadata": {},
   "source": [
    "#### Trellising the Data\n",
    "I think a better way to plot this data is to trellis by target/method and to put the plots side by side.  I also think it's important to display the $R^2$ for the correlations."
   ]
  },
  {
   "cell_type": "code",
   "execution_count": 42,
   "metadata": {},
   "outputs": [
    {
     "ename": "TypeError",
     "evalue": "scatterplot() takes from 0 to 1 positional arguments but 2 were given",
     "output_type": "error",
     "traceback": [
      "\u001b[0;31m---------------------------------------------------------------------------\u001b[0m",
      "\u001b[0;31mTypeError\u001b[0m                                 Traceback (most recent call last)",
      "Cell \u001b[0;32mIn[42], line 4\u001b[0m\n\u001b[1;32m      2\u001b[0m sns\u001b[38;5;241m.\u001b[39mset_style(\u001b[38;5;124m\"\u001b[39m\u001b[38;5;124mwhite\u001b[39m\u001b[38;5;124m\"\u001b[39m)\n\u001b[1;32m      3\u001b[0m g \u001b[38;5;241m=\u001b[39m sns\u001b[38;5;241m.\u001b[39mFacetGrid(mdf,col\u001b[38;5;241m=\u001b[39m\u001b[38;5;124m\"\u001b[39m\u001b[38;5;124mDataSet\u001b[39m\u001b[38;5;124m\"\u001b[39m,col_wrap\u001b[38;5;241m=\u001b[39m\u001b[38;5;241m4\u001b[39m)\n\u001b[0;32m----> 4\u001b[0m \u001b[43mg\u001b[49m\u001b[38;5;241;43m.\u001b[39;49m\u001b[43mmap\u001b[49m\u001b[43m(\u001b[49m\u001b[43mdraw_dG_facet\u001b[49m\u001b[43m,\u001b[49m\u001b[38;5;124;43m\"\u001b[39;49m\u001b[38;5;124;43mExperimental_dG\u001b[39;49m\u001b[38;5;124;43m\"\u001b[39;49m\u001b[43m,\u001b[49m\u001b[38;5;124;43m\"\u001b[39;49m\u001b[38;5;124;43mPredicted_dG\u001b[39;49m\u001b[38;5;124;43m\"\u001b[39;49m\u001b[43m)\u001b[49m\n\u001b[1;32m      5\u001b[0m _ \u001b[38;5;241m=\u001b[39m g\u001b[38;5;241m.\u001b[39mset_titles(col_template\u001b[38;5;241m=\u001b[39m\u001b[38;5;124m\"\u001b[39m\u001b[38;5;132;01m{col_name}\u001b[39;00m\u001b[38;5;124m\"\u001b[39m)\n\u001b[1;32m      6\u001b[0m g\u001b[38;5;241m.\u001b[39mset_xlabels(\u001b[38;5;124m\"\u001b[39m\u001b[38;5;124mExperimental $\u001b[39m\u001b[38;5;124m\\\u001b[39m\u001b[38;5;124mDelta$G (kcal/mol)\u001b[39m\u001b[38;5;124m\"\u001b[39m)\n",
      "File \u001b[0;32m~/.local/lib/python3.11/site-packages/seaborn/axisgrid.py:758\u001b[0m, in \u001b[0;36mFacetGrid.map\u001b[0;34m(self, func, *args, **kwargs)\u001b[0m\n\u001b[1;32m    755\u001b[0m         plot_args \u001b[38;5;241m=\u001b[39m [v\u001b[38;5;241m.\u001b[39mvalues \u001b[38;5;28;01mfor\u001b[39;00m v \u001b[38;5;129;01min\u001b[39;00m plot_args]\n\u001b[1;32m    757\u001b[0m     \u001b[38;5;66;03m# Draw the plot\u001b[39;00m\n\u001b[0;32m--> 758\u001b[0m     \u001b[38;5;28;43mself\u001b[39;49m\u001b[38;5;241;43m.\u001b[39;49m\u001b[43m_facet_plot\u001b[49m\u001b[43m(\u001b[49m\u001b[43mfunc\u001b[49m\u001b[43m,\u001b[49m\u001b[43m \u001b[49m\u001b[43max\u001b[49m\u001b[43m,\u001b[49m\u001b[43m \u001b[49m\u001b[43mplot_args\u001b[49m\u001b[43m,\u001b[49m\u001b[43m \u001b[49m\u001b[43mkwargs\u001b[49m\u001b[43m)\u001b[49m\n\u001b[1;32m    760\u001b[0m \u001b[38;5;66;03m# Finalize the annotations and layout\u001b[39;00m\n\u001b[1;32m    761\u001b[0m \u001b[38;5;28mself\u001b[39m\u001b[38;5;241m.\u001b[39m_finalize_grid(args[:\u001b[38;5;241m2\u001b[39m])\n",
      "File \u001b[0;32m~/.local/lib/python3.11/site-packages/seaborn/axisgrid.py:854\u001b[0m, in \u001b[0;36mFacetGrid._facet_plot\u001b[0;34m(self, func, ax, plot_args, plot_kwargs)\u001b[0m\n\u001b[1;32m    852\u001b[0m     plot_args \u001b[38;5;241m=\u001b[39m []\n\u001b[1;32m    853\u001b[0m     plot_kwargs[\u001b[38;5;124m\"\u001b[39m\u001b[38;5;124max\u001b[39m\u001b[38;5;124m\"\u001b[39m] \u001b[38;5;241m=\u001b[39m ax\n\u001b[0;32m--> 854\u001b[0m \u001b[43mfunc\u001b[49m\u001b[43m(\u001b[49m\u001b[38;5;241;43m*\u001b[39;49m\u001b[43mplot_args\u001b[49m\u001b[43m,\u001b[49m\u001b[43m \u001b[49m\u001b[38;5;241;43m*\u001b[39;49m\u001b[38;5;241;43m*\u001b[39;49m\u001b[43mplot_kwargs\u001b[49m\u001b[43m)\u001b[49m\n\u001b[1;32m    856\u001b[0m \u001b[38;5;66;03m# Sort out the supporting information\u001b[39;00m\n\u001b[1;32m    857\u001b[0m \u001b[38;5;28mself\u001b[39m\u001b[38;5;241m.\u001b[39m_update_legend_data(ax)\n",
      "Cell \u001b[0;32mIn[40], line 9\u001b[0m, in \u001b[0;36mdraw_dG_facet\u001b[0;34m(*args, **kwargs)\u001b[0m\n\u001b[1;32m      7\u001b[0m \u001b[38;5;28;01mwith\u001b[39;00m warnings\u001b[38;5;241m.\u001b[39mcatch_warnings():\n\u001b[1;32m      8\u001b[0m     warnings\u001b[38;5;241m.\u001b[39mfilterwarnings(\u001b[38;5;124m\"\u001b[39m\u001b[38;5;124mignore\u001b[39m\u001b[38;5;124m\"\u001b[39m, category\u001b[38;5;241m=\u001b[39m\u001b[38;5;167;01mFutureWarning\u001b[39;00m)\n\u001b[0;32m----> 9\u001b[0m     ax \u001b[38;5;241m=\u001b[39m \u001b[43msns\u001b[49m\u001b[38;5;241;43m.\u001b[39;49m\u001b[43mscatterplot\u001b[49m\u001b[43m(\u001b[49m\u001b[38;5;241;43m*\u001b[39;49m\u001b[43margs\u001b[49m\u001b[43m,\u001b[49m\u001b[38;5;241;43m*\u001b[39;49m\u001b[38;5;241;43m*\u001b[39;49m\u001b[43mkwargs\u001b[49m\u001b[43m)\u001b[49m\n\u001b[1;32m     10\u001b[0m r2 \u001b[38;5;241m=\u001b[39m pearsonr(args[\u001b[38;5;241m0\u001b[39m],args[\u001b[38;5;241m1\u001b[39m])[\u001b[38;5;241m0\u001b[39m]\u001b[38;5;241m*\u001b[39m\u001b[38;5;241m*\u001b[39m\u001b[38;5;241m2\u001b[39m\n\u001b[1;32m     11\u001b[0m pad \u001b[38;5;241m=\u001b[39m \u001b[38;5;241m2\u001b[39m\n",
      "\u001b[0;31mTypeError\u001b[0m: scatterplot() takes from 0 to 1 positional arguments but 2 were given"
     ]
    },
    {
     "data": {
      "image/png": "[encoded data removed]",
      "text/plain": [
       "<Figure size 1200x1200 with 16 Axes>"
      ]
     },
     "metadata": {},
     "output_type": "display_data"
    }
   ],
   "source": [
    "sns.set(font_scale=1)\n",
    "sns.set_style(\"white\")\n",
    "g = sns.FacetGrid(mdf,col=\"DataSet\",col_wrap=4)\n",
    "g.map(draw_dG_facet,\"Experimental_dG\",\"Predicted_dG\")\n",
    "_ = g.set_titles(col_template=\"{col_name}\")\n",
    "g.set_xlabels(\"Experimental $\\Delta$G (kcal/mol)\")\n",
    "_= g.set_ylabels(\"Predicted $\\Delta$G (kcal/mol)\")"
   ]
  },
  {
   "cell_type": "markdown",
   "metadata": {},
   "source": [
    "#### Calculating Confidence Intervals for Correlation Coefficients\n",
    "Another way to look at this data is to plot the correlations as bar plots.  Of course the bar plots should have error bars.  We can use this function to calculate the 95% confidence interval for the correlations. "
   ]
  },
  {
   "cell_type": "code",
   "execution_count": 117,
   "metadata": {},
   "outputs": [],
   "source": [
    "def pearson_confidence(r, num, interval=0.95):\n",
    "    \"\"\"\n",
    "    Calculate upper and lower 95% CI for a Pearson r (not R**2)\n",
    "    Inspired by https://stats.stackexchange.com/questions/18887\n",
    "    :param r: Pearson's R\n",
    "    :param num: number of data points\n",
    "    :param interval: confidence interval (0-1.0)\n",
    "    :return: lower bound, upper bound\n",
    "    \"\"\"\n",
    "    stderr = 1.0 / math.sqrt(num - 3)\n",
    "    interval = interval + (1-interval)/2\n",
    "    z_score = norm.ppf(interval)\n",
    "    delta = z_score * stderr\n",
    "    lower = math.tanh(math.atanh(r) - delta)\n",
    "    upper = math.tanh(math.atanh(r) + delta)\n",
    "    return lower, upper"
   ]
  },
  {
   "cell_type": "markdown",
   "metadata": {},
   "source": [
    "This code just calculates Pearson r for each of the target/method combinations.  I used the Pearson r rather than $R^2$ because I felt it made the differences more apparent in the plots."
   ]
  },
  {
   "cell_type": "code",
   "execution_count": 118,
   "metadata": {},
   "outputs": [],
   "source": [
    "gb = big_df.groupby(\"Target\")\n",
    "res = []\n",
    "for k,v in gb:\n",
    "    num = len(v.Experimental_dG)\n",
    "    r_FEP = pearsonr(v.Experimental_dG,v.FEP_dG)[0]\n",
    "    r_TI = pearsonr(v.Experimental_dG,v.TI_dG)[0]\n",
    "    lb_FEP, ub_FEP = pearson_confidence(r_FEP,num)\n",
    "    lb_TI, ub_TI = pearson_confidence(r_TI,num)\n",
    "    # Currently calculate Pearson r, use the line below to get R**2\n",
    "    #res.append([k,len(v)]+[x**2 for x in [lb_FEP,r_FEP,ub_FEP,lb_TI,r_TI,ub_TI]])\n",
    "    res.append([k,len(v)]+[x for x in [lb_FEP,r_FEP,ub_FEP,lb_TI,r_TI,ub_TI]])\n",
    "res_df = pd.DataFrame(res,columns=[\"Target\",\"Num\",\"FEP_LB\",\"FEP Correlation\",\"FEP_UB\",\"TI_LB\",\"TI Correlation\",\"TI_UB\"])"
   ]
  },
  {
   "cell_type": "code",
   "execution_count": 119,
   "metadata": {
    "scrolled": false
   },
   "outputs": [
    {
     "data": {
      "text/html": [
       "<div>\n",
       "<style scoped>\n",
       "    .dataframe tbody tr th:only-of-type {\n",
       "        vertical-align: middle;\n",
       "    }\n",
       "\n",
       "    .dataframe tbody tr th {\n",
       "        vertical-align: top;\n",
       "    }\n",
       "\n",
       "    .dataframe thead th {\n",
       "        text-align: right;\n",
       "    }\n",
       "</style>\n",
       "<table border=\"1\" class=\"dataframe\">\n",
       "  <thead>\n",
       "    <tr style=\"text-align: right;\">\n",
       "      <th></th>\n",
       "      <th>Target</th>\n",
       "      <th>Num</th>\n",
       "      <th>FEP_LB</th>\n",
       "      <th>FEP Correlation</th>\n",
       "      <th>FEP_UB</th>\n",
       "      <th>TI_LB</th>\n",
       "      <th>TI Correlation</th>\n",
       "      <th>TI_UB</th>\n",
       "    </tr>\n",
       "  </thead>\n",
       "  <tbody>\n",
       "    <tr>\n",
       "      <th>0</th>\n",
       "      <td>bace</td>\n",
       "      <td>36</td>\n",
       "      <td>0.61</td>\n",
       "      <td>0.78</td>\n",
       "      <td>0.88</td>\n",
       "      <td>0.12</td>\n",
       "      <td>0.43</td>\n",
       "      <td>0.67</td>\n",
       "    </tr>\n",
       "    <tr>\n",
       "      <th>1</th>\n",
       "      <td>cdk2</td>\n",
       "      <td>16</td>\n",
       "      <td>-0.03</td>\n",
       "      <td>0.48</td>\n",
       "      <td>0.79</td>\n",
       "      <td>-0.03</td>\n",
       "      <td>0.47</td>\n",
       "      <td>0.78</td>\n",
       "    </tr>\n",
       "    <tr>\n",
       "      <th>2</th>\n",
       "      <td>jnk1</td>\n",
       "      <td>21</td>\n",
       "      <td>0.65</td>\n",
       "      <td>0.84</td>\n",
       "      <td>0.94</td>\n",
       "      <td>0.05</td>\n",
       "      <td>0.47</td>\n",
       "      <td>0.75</td>\n",
       "    </tr>\n",
       "    <tr>\n",
       "      <th>3</th>\n",
       "      <td>mcl1</td>\n",
       "      <td>42</td>\n",
       "      <td>0.61</td>\n",
       "      <td>0.77</td>\n",
       "      <td>0.87</td>\n",
       "      <td>0.43</td>\n",
       "      <td>0.65</td>\n",
       "      <td>0.80</td>\n",
       "    </tr>\n",
       "    <tr>\n",
       "      <th>4</th>\n",
       "      <td>p38a</td>\n",
       "      <td>34</td>\n",
       "      <td>0.40</td>\n",
       "      <td>0.65</td>\n",
       "      <td>0.81</td>\n",
       "      <td>0.05</td>\n",
       "      <td>0.38</td>\n",
       "      <td>0.64</td>\n",
       "    </tr>\n",
       "    <tr>\n",
       "      <th>5</th>\n",
       "      <td>ptp1b</td>\n",
       "      <td>23</td>\n",
       "      <td>0.59</td>\n",
       "      <td>0.80</td>\n",
       "      <td>0.91</td>\n",
       "      <td>0.42</td>\n",
       "      <td>0.71</td>\n",
       "      <td>0.87</td>\n",
       "    </tr>\n",
       "    <tr>\n",
       "      <th>6</th>\n",
       "      <td>thrombin</td>\n",
       "      <td>11</td>\n",
       "      <td>0.18</td>\n",
       "      <td>0.71</td>\n",
       "      <td>0.92</td>\n",
       "      <td>0.28</td>\n",
       "      <td>0.76</td>\n",
       "      <td>0.93</td>\n",
       "    </tr>\n",
       "    <tr>\n",
       "      <th>7</th>\n",
       "      <td>tyk2</td>\n",
       "      <td>16</td>\n",
       "      <td>0.71</td>\n",
       "      <td>0.89</td>\n",
       "      <td>0.96</td>\n",
       "      <td>0.11</td>\n",
       "      <td>0.57</td>\n",
       "      <td>0.83</td>\n",
       "    </tr>\n",
       "  </tbody>\n",
       "</table>\n",
       "</div>"
      ],
      "text/plain": [
       "     Target  Num  FEP_LB  FEP Correlation  FEP_UB  TI_LB  TI Correlation  \\\n",
       "0      bace   36    0.61             0.78    0.88   0.12            0.43   \n",
       "1      cdk2   16   -0.03             0.48    0.79  -0.03            0.47   \n",
       "2      jnk1   21    0.65             0.84    0.94   0.05            0.47   \n",
       "3      mcl1   42    0.61             0.77    0.87   0.43            0.65   \n",
       "4      p38a   34    0.40             0.65    0.81   0.05            0.38   \n",
       "5     ptp1b   23    0.59             0.80    0.91   0.42            0.71   \n",
       "6  thrombin   11    0.18             0.71    0.92   0.28            0.76   \n",
       "7      tyk2   16    0.71             0.89    0.96   0.11            0.57   \n",
       "\n",
       "   TI_UB  \n",
       "0   0.67  \n",
       "1   0.78  \n",
       "2   0.75  \n",
       "3   0.80  \n",
       "4   0.64  \n",
       "5   0.87  \n",
       "6   0.93  \n",
       "7   0.83  "
      ]
     },
     "execution_count": 119,
     "metadata": {},
     "output_type": "execute_result"
    }
   ],
   "source": [
    "res_df"
   ]
  },
  {
   "cell_type": "markdown",
   "metadata": {},
   "source": [
    "#### Plotting Correlations With Error Bars\n",
    "In order to make the plots, we need to reshape the data."
   ]
  },
  {
   "cell_type": "code",
   "execution_count": 120,
   "metadata": {},
   "outputs": [],
   "source": [
    "melt_res_df = res_df[[\"Target\",\"FEP Correlation\",\"TI Correlation\"]].melt(id_vars=\"Target\")\n",
    "melt_res_df.sort_values(\"Target\",inplace=True)"
   ]
  },
  {
   "cell_type": "code",
   "execution_count": 121,
   "metadata": {},
   "outputs": [
    {
     "data": {
      "text/html": [
       "<div>\n",
       "<style scoped>\n",
       "    .dataframe tbody tr th:only-of-type {\n",
       "        vertical-align: middle;\n",
       "    }\n",
       "\n",
       "    .dataframe tbody tr th {\n",
       "        vertical-align: top;\n",
       "    }\n",
       "\n",
       "    .dataframe thead th {\n",
       "        text-align: right;\n",
       "    }\n",
       "</style>\n",
       "<table border=\"1\" class=\"dataframe\">\n",
       "  <thead>\n",
       "    <tr style=\"text-align: right;\">\n",
       "      <th></th>\n",
       "      <th>Target</th>\n",
       "      <th>variable</th>\n",
       "      <th>value</th>\n",
       "    </tr>\n",
       "  </thead>\n",
       "  <tbody>\n",
       "    <tr>\n",
       "      <th>0</th>\n",
       "      <td>bace</td>\n",
       "      <td>FEP Correlation</td>\n",
       "      <td>0.78</td>\n",
       "    </tr>\n",
       "    <tr>\n",
       "      <th>8</th>\n",
       "      <td>bace</td>\n",
       "      <td>TI Correlation</td>\n",
       "      <td>0.43</td>\n",
       "    </tr>\n",
       "    <tr>\n",
       "      <th>1</th>\n",
       "      <td>cdk2</td>\n",
       "      <td>FEP Correlation</td>\n",
       "      <td>0.48</td>\n",
       "    </tr>\n",
       "    <tr>\n",
       "      <th>9</th>\n",
       "      <td>cdk2</td>\n",
       "      <td>TI Correlation</td>\n",
       "      <td>0.47</td>\n",
       "    </tr>\n",
       "    <tr>\n",
       "      <th>2</th>\n",
       "      <td>jnk1</td>\n",
       "      <td>FEP Correlation</td>\n",
       "      <td>0.84</td>\n",
       "    </tr>\n",
       "    <tr>\n",
       "      <th>10</th>\n",
       "      <td>jnk1</td>\n",
       "      <td>TI Correlation</td>\n",
       "      <td>0.47</td>\n",
       "    </tr>\n",
       "    <tr>\n",
       "      <th>3</th>\n",
       "      <td>mcl1</td>\n",
       "      <td>FEP Correlation</td>\n",
       "      <td>0.77</td>\n",
       "    </tr>\n",
       "    <tr>\n",
       "      <th>11</th>\n",
       "      <td>mcl1</td>\n",
       "      <td>TI Correlation</td>\n",
       "      <td>0.65</td>\n",
       "    </tr>\n",
       "    <tr>\n",
       "      <th>4</th>\n",
       "      <td>p38a</td>\n",
       "      <td>FEP Correlation</td>\n",
       "      <td>0.65</td>\n",
       "    </tr>\n",
       "    <tr>\n",
       "      <th>12</th>\n",
       "      <td>p38a</td>\n",
       "      <td>TI Correlation</td>\n",
       "      <td>0.38</td>\n",
       "    </tr>\n",
       "    <tr>\n",
       "      <th>5</th>\n",
       "      <td>ptp1b</td>\n",
       "      <td>FEP Correlation</td>\n",
       "      <td>0.80</td>\n",
       "    </tr>\n",
       "    <tr>\n",
       "      <th>13</th>\n",
       "      <td>ptp1b</td>\n",
       "      <td>TI Correlation</td>\n",
       "      <td>0.71</td>\n",
       "    </tr>\n",
       "    <tr>\n",
       "      <th>6</th>\n",
       "      <td>thrombin</td>\n",
       "      <td>FEP Correlation</td>\n",
       "      <td>0.71</td>\n",
       "    </tr>\n",
       "    <tr>\n",
       "      <th>14</th>\n",
       "      <td>thrombin</td>\n",
       "      <td>TI Correlation</td>\n",
       "      <td>0.76</td>\n",
       "    </tr>\n",
       "    <tr>\n",
       "      <th>7</th>\n",
       "      <td>tyk2</td>\n",
       "      <td>FEP Correlation</td>\n",
       "      <td>0.89</td>\n",
       "    </tr>\n",
       "    <tr>\n",
       "      <th>15</th>\n",
       "      <td>tyk2</td>\n",
       "      <td>TI Correlation</td>\n",
       "      <td>0.57</td>\n",
       "    </tr>\n",
       "  </tbody>\n",
       "</table>\n",
       "</div>"
      ],
      "text/plain": [
       "      Target         variable  value\n",
       "0       bace  FEP Correlation   0.78\n",
       "8       bace   TI Correlation   0.43\n",
       "1       cdk2  FEP Correlation   0.48\n",
       "9       cdk2   TI Correlation   0.47\n",
       "2       jnk1  FEP Correlation   0.84\n",
       "10      jnk1   TI Correlation   0.47\n",
       "3       mcl1  FEP Correlation   0.77\n",
       "11      mcl1   TI Correlation   0.65\n",
       "4       p38a  FEP Correlation   0.65\n",
       "12      p38a   TI Correlation   0.38\n",
       "5      ptp1b  FEP Correlation   0.80\n",
       "13     ptp1b   TI Correlation   0.71\n",
       "6   thrombin  FEP Correlation   0.71\n",
       "14  thrombin   TI Correlation   0.76\n",
       "7       tyk2  FEP Correlation   0.89\n",
       "15      tyk2   TI Correlation   0.57"
      ]
     },
     "execution_count": 121,
     "metadata": {},
     "output_type": "execute_result"
    }
   ],
   "source": [
    "melt_res_df"
   ]
  },
  {
   "cell_type": "code",
   "execution_count": 122,
   "metadata": {},
   "outputs": [
    {
     "data": {
      "image/png": "[encoded data removed]",
      "text/plain": [
       "<Figure size 864x864 with 1 Axes>"
      ]
     },
     "metadata": {},
     "output_type": "display_data"
    }
   ],
   "source": [
    "sns.set(rc={'figure.figsize':(12,12)},font_scale=1.5)\n",
    "ax = sns.barplot(x=\"Target\",y=\"value\",hue=\"variable\",data=melt_res_df)\n",
    "x_pos = np.arange(8)-0.2\n",
    "y_val = res_df[\"FEP Correlation\"]\n",
    "lb = y_val - res_df.FEP_LB\n",
    "ub = res_df.FEP_UB - y_val\n",
    "ax.errorbar(x_pos,y_val,yerr=[lb,ub],fmt=\"none\",capsize=0,color='black')\n",
    "x_pos = np.arange(8)+0.2\n",
    "y_val = res_df[\"TI Correlation\"]\n",
    "lb = y_val - res_df.TI_LB\n",
    "ub = res_df.TI_UB - y_val\n",
    "a = ax.errorbar(x_pos,y_val,yerr=[lb,ub],fmt=\"none\",capsize=0,color='black')\n",
    "handles, labels = ax.get_legend_handles_labels()\n",
    "plt.legend(bbox_to_anchor=(1.05, 1), loc=2, borderaxespad=0., handles=handles[0:2], labels=labels[0:2])\n",
    "_ = ax.set(xlabel='', ylabel=\"Pearson r\")"
   ]
  },
  {
   "cell_type": "markdown",
   "metadata": {},
   "source": [
    "#### Calculating the Effect Size\n",
    "As [Anthony Nicholls](https://link.springer.com/article/10.1007/s10822-016-9904-5) points out, when we have a data set like this with dependent errors, the fact that error bars overlap does not necessarily imply that the methods are equivalent.  However, we can use the mean of differences / std deviation of the differences to calculate [Cohen's d](https://machinelearningmastery.com/effect-size-measures-in-python/), which measures the effect size. Cohen’s d measures the difference between the mean from two Gaussian-distributed variables. It is a standard score that summarizes the difference in terms of the number of standard deviations. Because the score is standardized, there is a table for the interpretation of the result, summarized as:\n",
    "\n",
    "- Small Effect Size: d=0.20\n",
    "- Medium Effect Size: d=0.50\n",
    "- Large Effect Size: d=0.80\n"
   ]
  },
  {
   "cell_type": "code",
   "execution_count": 123,
   "metadata": {},
   "outputs": [
    {
     "data": {
      "text/plain": [
       "1.2137416942335348"
      ]
     },
     "execution_count": 123,
     "metadata": {},
     "output_type": "execute_result"
    }
   ],
   "source": [
    "delta = res_df[\"FEP Correlation\"].values-res_df[\"TI Correlation\"].values\n",
    "np.mean(delta)/np.std(delta)"
   ]
  },
  {
   "cell_type": "markdown",
   "metadata": {},
   "source": [
    "We get a Cohen's d of 1.2, which is a very large effect size. We can define a function to convert d to an approximate probability between 0 and 1."
   ]
  },
  {
   "cell_type": "code",
   "execution_count": 124,
   "metadata": {},
   "outputs": [
    {
     "data": {
      "text/plain": [
       "0.8"
      ]
     },
     "execution_count": 124,
     "metadata": {},
     "output_type": "execute_result"
    }
   ],
   "source": [
    "def d_to_probability(d):\n",
    "    return 0.25 * abs(d) + 0.5 \n",
    "d_to_probability(1.2)"
   ]
  },
  {
   "cell_type": "markdown",
   "metadata": {},
   "source": [
    "So for the 8 datasets we examined, FEP should outperform TI in 8 of 10 cases. To look at this visually, let's plot a kernel density estimate for the Pearson r distributions. "
   ]
  },
  {
   "cell_type": "code",
   "execution_count": 125,
   "metadata": {},
   "outputs": [
    {
     "data": {
      "image/png": "[encoded data removed]",
      "text/plain": [
       "<Figure size 864x864 with 1 Axes>"
      ]
     },
     "metadata": {},
     "output_type": "display_data"
    }
   ],
   "source": [
    "sns.set(font_scale=1.5)\n",
    "sns.set_style(\"white\")\n",
    "sns.kdeplot(res_df[\"FEP Correlation\"],color=\"r\",shade=True)\n",
    "ax = sns.kdeplot(res_df[\"TI Correlation\"],color=\"b\",shade=True)\n",
    "_ = ax.set(xlabel=\"Pearson r\",ylabel=\"Density\")"
   ]
  },
  {
   "cell_type": "markdown",
   "metadata": {},
   "source": [
    "We can also calculate Cohen's d for the RMSE."
   ]
  },
  {
   "cell_type": "code",
   "execution_count": 131,
   "metadata": {},
   "outputs": [],
   "source": [
    "gb = big_df.groupby(\"Target\")\n",
    "res = []\n",
    "for k,v in gb:\n",
    "    res.append([k,mean_squared_error(v.Experimental_dG,v.FEP_dG),mean_squared_error(v.Experimental_dG,v.TI_dG)])\n",
    "rmse_df = pd.DataFrame(res,columns=[\"Target\",\"FEP RMSE\",\"TI RMSE\"])"
   ]
  },
  {
   "cell_type": "code",
   "execution_count": 132,
   "metadata": {},
   "outputs": [
    {
     "data": {
      "text/plain": [
       "-1.0813375331578456"
      ]
     },
     "execution_count": 132,
     "metadata": {},
     "output_type": "execute_result"
    }
   ],
   "source": [
    "delta = rmse_df[\"FEP RMSE\"].values - rmse_df[\"TI RMSE\"].values\n",
    "np.mean(delta)/np.std(delta)"
   ]
  },
  {
   "cell_type": "markdown",
   "metadata": {},
   "source": [
    "Again we have a very large effect size. As above, we can covert this to a probability."
   ]
  },
  {
   "cell_type": "code",
   "execution_count": 133,
   "metadata": {},
   "outputs": [
    {
     "data": {
      "text/plain": [
       "0.77"
      ]
     },
     "execution_count": 133,
     "metadata": {},
     "output_type": "execute_result"
    }
   ],
   "source": [
    "d_to_probability(-1.08)"
   ]
  },
  {
   "cell_type": "code",
   "execution_count": null,
   "metadata": {},
   "outputs": [],
   "source": []
  }
 ],
 "metadata": {
  "kernelspec": {
   "display_name": "Python 3 (ipykernel)",
   "language": "python",
   "name": "python3"
  },
  "language_info": {
   "codemirror_mode": {
    "name": "ipython",
    "version": 3
   },
   "file_extension": ".py",
   "mimetype": "text/x-python",
   "name": "python",
   "nbconvert_exporter": "python",
   "pygments_lexer": "ipython3",
   "version": "3.11.10"
  }
 },
 "nbformat": 4,
 "nbformat_minor": 2
}
