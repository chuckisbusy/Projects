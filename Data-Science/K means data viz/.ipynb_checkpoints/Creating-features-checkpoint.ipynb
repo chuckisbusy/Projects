{
 "cells": [
  {
   "cell_type": "code",
   "execution_count": 1,
   "id": "16c35d6b",
   "metadata": {},
   "outputs": [],
   "source": [
    "import matplotlib.pyplot as plt\n",
    "import numpy as np\n",
    "import pandas as pd\n",
    "import seaborn as sns"
   ]
  },
  {
   "cell_type": "markdown",
   "id": "2ac5e7f3",
   "metadata": {},
   "source": [
    "# Exploratory Data Analysis"
   ]
  },
  {
   "cell_type": "code",
   "execution_count": 3,
   "id": "a0db17fb",
   "metadata": {},
   "outputs": [],
   "source": [
    "accidents = pd.read_csv(\"accidents.csv\")\n",
    "autos = pd.read_csv(\"autos.csv\")\n",
    "concrete = pd.read_csv(\"concrete.csv\")\n",
    "customer = pd.read_csv(\"customer.csv\")"
   ]
  },
  {
   "cell_type": "code",
   "execution_count": 5,
   "id": "45a012bc",
   "metadata": {},
   "outputs": [
    {
     "name": "stdout",
     "output_type": "stream",
     "text": [
      "<class 'pandas.core.frame.DataFrame'>\n",
      "RangeIndex: 193 entries, 0 to 192\n",
      "Data columns (total 26 columns):\n",
      " #   Column             Non-Null Count  Dtype  \n",
      "---  ------             --------------  -----  \n",
      " 0   symboling          193 non-null    int64  \n",
      " 1   make               193 non-null    object \n",
      " 2   fuel_type          193 non-null    object \n",
      " 3   aspiration         193 non-null    object \n",
      " 4   num_of_doors       193 non-null    int64  \n",
      " 5   body_style         193 non-null    object \n",
      " 6   drive_wheels       193 non-null    object \n",
      " 7   engine_location    193 non-null    object \n",
      " 8   wheel_base         193 non-null    float64\n",
      " 9   length             193 non-null    float64\n",
      " 10  width              193 non-null    float64\n",
      " 11  height             193 non-null    float64\n",
      " 12  curb_weight        193 non-null    int64  \n",
      " 13  engine_type        193 non-null    object \n",
      " 14  num_of_cylinders   193 non-null    int64  \n",
      " 15  engine_size        193 non-null    int64  \n",
      " 16  fuel_system        193 non-null    object \n",
      " 17  bore               193 non-null    float64\n",
      " 18  stroke             193 non-null    float64\n",
      " 19  compression_ratio  193 non-null    int64  \n",
      " 20  horsepower         193 non-null    int64  \n",
      " 21  peak_rpm           193 non-null    int64  \n",
      " 22  city_mpg           193 non-null    int64  \n",
      " 23  highway_mpg        193 non-null    int64  \n",
      " 24  price              193 non-null    int64  \n",
      " 25  stroke_ratio       193 non-null    float64\n",
      "dtypes: float64(7), int64(11), object(8)\n",
      "memory usage: 39.3+ KB\n"
     ]
    }
   ],
   "source": [
    "autos.info()"
   ]
  },
  {
   "cell_type": "code",
   "execution_count": null,
   "id": "00999e75",
   "metadata": {
    "collapsed": true
   },
   "outputs": [],
   "source": []
  },
  {
   "cell_type": "code",
   "execution_count": null,
   "id": "432d5688",
   "metadata": {},
   "outputs": [],
   "source": []
  },
  {
   "cell_type": "code",
   "execution_count": 4,
   "id": "e2679e1a",
   "metadata": {},
   "outputs": [
    {
     "data": {
      "text/html": [
       "<div>\n",
       "<style scoped>\n",
       "    .dataframe tbody tr th:only-of-type {\n",
       "        vertical-align: middle;\n",
       "    }\n",
       "\n",
       "    .dataframe tbody tr th {\n",
       "        vertical-align: top;\n",
       "    }\n",
       "\n",
       "    .dataframe thead th {\n",
       "        text-align: right;\n",
       "    }\n",
       "</style>\n",
       "<table border=\"1\" class=\"dataframe\">\n",
       "  <thead>\n",
       "    <tr style=\"text-align: right;\">\n",
       "      <th></th>\n",
       "      <th>stroke</th>\n",
       "      <th>bore</th>\n",
       "      <th>stroke_ratio</th>\n",
       "    </tr>\n",
       "  </thead>\n",
       "  <tbody>\n",
       "    <tr>\n",
       "      <th>0</th>\n",
       "      <td>2.68</td>\n",
       "      <td>3.47</td>\n",
       "      <td>0.772334</td>\n",
       "    </tr>\n",
       "    <tr>\n",
       "      <th>1</th>\n",
       "      <td>2.68</td>\n",
       "      <td>3.47</td>\n",
       "      <td>0.772334</td>\n",
       "    </tr>\n",
       "    <tr>\n",
       "      <th>2</th>\n",
       "      <td>3.47</td>\n",
       "      <td>2.68</td>\n",
       "      <td>1.294776</td>\n",
       "    </tr>\n",
       "    <tr>\n",
       "      <th>3</th>\n",
       "      <td>3.40</td>\n",
       "      <td>3.19</td>\n",
       "      <td>1.065831</td>\n",
       "    </tr>\n",
       "    <tr>\n",
       "      <th>4</th>\n",
       "      <td>3.40</td>\n",
       "      <td>3.19</td>\n",
       "      <td>1.065831</td>\n",
       "    </tr>\n",
       "  </tbody>\n",
       "</table>\n",
       "</div>"
      ],
      "text/plain": [
       "   stroke  bore  stroke_ratio\n",
       "0    2.68  3.47      0.772334\n",
       "1    2.68  3.47      0.772334\n",
       "2    3.47  2.68      1.294776\n",
       "3    3.40  3.19      1.065831\n",
       "4    3.40  3.19      1.065831"
      ]
     },
     "execution_count": 4,
     "metadata": {},
     "output_type": "execute_result"
    }
   ],
   "source": [
    "autos[\"stroke_ratio\"] = autos.stroke / autos.bore\n",
    "autos[[\"stroke\", \"bore\", \"stroke_ratio\"]].head()"
   ]
  },
  {
   "cell_type": "code",
   "execution_count": null,
   "id": "0b094020",
   "metadata": {},
   "outputs": [],
   "source": []
  }
 ],
 "metadata": {
  "kernelspec": {
   "display_name": "Python 3 (ipykernel)",
   "language": "python",
   "name": "python3"
  },
  "language_info": {
   "codemirror_mode": {
    "name": "ipython",
    "version": 3
   },
   "file_extension": ".py",
   "mimetype": "text/x-python",
   "name": "python",
   "nbconvert_exporter": "python",
   "pygments_lexer": "ipython3",
   "version": "3.10.9"
  }
 },
 "nbformat": 4,
 "nbformat_minor": 5
}
